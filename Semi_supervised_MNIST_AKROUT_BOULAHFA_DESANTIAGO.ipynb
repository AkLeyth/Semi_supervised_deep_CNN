{
  "cells": [
    {
      "cell_type": "markdown",
      "metadata": {
        "id": "z0yUA54Xm_av"
      },
      "source": [
        "# Importation des packages"
      ]
    },
    {
      "cell_type": "markdown",
      "metadata": {
        "id": "1B9iWsipiwzM"
      },
      "source": [
        "On commence par importer les packages dont on aura besoin dans toute la suite."
      ]
    },
    {
      "cell_type": "code",
      "execution_count": null,
      "metadata": {
        "id": "-2PWyoBQLN01"
      },
      "outputs": [],
      "source": [
        "import IPython\n",
        "\n",
        "import scipy\n",
        "import numpy as np # manipulate N-dimensional arrays\n",
        "import pandas as pd # data frame\n",
        "import matplotlib.pyplot as plt # data plotting\n",
        "import seaborn as sns # advanced data plotting\n",
        "from sklearn import preprocessing # basic ML models\n",
        "# import scipy # scientific computing library\n",
        "\n",
        "import tensorflow as tf\n",
        "import keras\n",
        "\n",
        "from sklearn.model_selection import train_test_split # Séparation train-validation-test\n",
        "from collections import Counter # Permet de compter le nombre d'éléments qui possèdent chaque label\n",
        "from keras.utils import to_categorical # One-hot encoding\n",
        "\n",
        "from keras.models import Model, Sequential\n",
        "from keras.layers import Input, Dense, BatchNormalization, Dropout, ReLU, Activation, Flatten, Conv2D, MaxPooling2D\n",
        "\n",
        "from keras.backend import clear_session\n",
        "from keras.optimizers import Adam\n",
        "\n",
        "from keras.callbacks import EarlyStopping\n",
        "\n",
        "import os\n",
        "from keras import backend as K\n",
        "\n",
        "from sklearn.metrics import make_scorer\n",
        "from sklearn.metrics import accuracy_score\n",
        "from sklearn.model_selection import StratifiedKFold\n",
        "from sklearn.model_selection import KFold\n",
        "\n",
        "from tqdm import tqdm #progress bar\n",
        "\n",
        "from scipy.ndimage import gaussian_filter\n",
        "import random"
      ]
    },
    {
      "cell_type": "markdown",
      "metadata": {
        "id": "nhYLbPDsi13R"
      },
      "source": [
        "\n",
        "Le package kerastuner n'étant pas présent de base, il faut l'installer.\n",
        "<br>\n",
        "Ce dernier nous permettra d'optimiser les hyperparamètres de nos modèles."
      ]
    },
    {
      "cell_type": "code",
      "execution_count": null,
      "metadata": {
        "id": "aMv0NlJWEMOU"
      },
      "outputs": [],
      "source": [
        "!pip install -q -U keras-tuner\n",
        "import kerastuner as kt # Hyperparameter optimisation"
      ]
    },
    {
      "cell_type": "code",
      "execution_count": null,
      "metadata": {
        "colab": {
          "base_uri": "https://localhost:8080/"
        },
        "id": "P9BWBDJXEJs8",
        "outputId": "ee7f2ab0-af13-4858-d61c-f2f11471a024"
      },
      "outputs": [
        {
          "name": "stdout",
          "output_type": "stream",
          "text": [
            "2.4.0\n"
          ]
        }
      ],
      "source": [
        "print(tf.__version__)"
      ]
    },
    {
      "cell_type": "code",
      "execution_count": null,
      "metadata": {
        "colab": {
          "base_uri": "https://localhost:8080/"
        },
        "id": "PQ3icOBFrybg",
        "outputId": "7575a372-fe05-4359-a089-a9a5dda9460e"
      },
      "outputs": [
        {
          "name": "stdout",
          "output_type": "stream",
          "text": [
            "Drive already mounted at /content/drive; to attempt to forcibly remount, call drive.mount(\"/content/drive\", force_remount=True).\n"
          ]
        }
      ],
      "source": [
        "from google.colab import drive\n",
        "drive.mount('/content/drive')"
      ]
    },
    {
      "cell_type": "markdown",
      "metadata": {
        "id": "mnCoPSZDn5x7"
      },
      "source": [
        "# Préparation des données"
      ]
    },
    {
      "cell_type": "markdown",
      "metadata": {
        "id": "9diUWbv3n9OC"
      },
      "source": [
        "## Chargement du dataset MNIST"
      ]
    },
    {
      "cell_type": "markdown",
      "metadata": {
        "id": "LQQn_jBukgpN"
      },
      "source": [
        "On charge le jeu de données MNIST en indiquant qu'on veut le nombre de channels en dernière dimension."
      ]
    },
    {
      "cell_type": "code",
      "execution_count": null,
      "metadata": {
        "colab": {
          "base_uri": "https://localhost:8080/"
        },
        "id": "XvMkC2RQDSzb",
        "outputId": "38db15c9-225f-4063-b344-b8758d05852c"
      },
      "outputs": [
        {
          "name": "stdout",
          "output_type": "stream",
          "text": [
            "Number of original training examples: 60000\n",
            "Number of original test examples: 10000\n"
          ]
        }
      ],
      "source": [
        "K.set_image_data_format('channels_last')\n",
        "\n",
        "(x_train_original, y_train_original), (x_test, y_test) = tf.keras.datasets.mnist.load_data()\n",
        "\n",
        "# Rescale the images from [0,255] to the [0.0,1.0] range.\n",
        "# x_train_original, x_test = x_train_original[..., np.newaxis]/255.0, x_test[..., np.newaxis]/255.0\n",
        "\n",
        "print(\"Number of original training examples:\", len(x_train_original))\n",
        "print(\"Number of original test examples:\", len(x_test))"
      ]
    },
    {
      "cell_type": "markdown",
      "metadata": {
        "id": "LSwPRzq_km05"
      },
      "source": [
        "Le train contient 60 000 images de taille 28 $\\times$ 28.\n",
        "<br>\n",
        "Le test contient 10 000 images de taille 28 $\\times$ 28.\n",
        "<br>\n",
        "Comme on n'a pas de 4ème dimension, on en déduit que ces images sont en noir et blanc.\n"
      ]
    },
    {
      "cell_type": "code",
      "execution_count": null,
      "metadata": {
        "colab": {
          "base_uri": "https://localhost:8080/"
        },
        "id": "FHG1kPc0Dmt1",
        "outputId": "4e38b83e-9f4e-43d9-f08c-8cc34842f10f"
      },
      "outputs": [
        {
          "name": "stdout",
          "output_type": "stream",
          "text": [
            "(60000, 28, 28)\n",
            "(10000, 28, 28)\n",
            "(60000,)\n",
            "(10000,)\n"
          ]
        }
      ],
      "source": [
        "print(x_train_original.shape)\n",
        "print(x_test.shape)\n",
        "print(y_train_original.shape)\n",
        "print(y_test.shape)"
      ]
    },
    {
      "cell_type": "markdown",
      "metadata": {
        "id": "dXf-Wtl-lJxg"
      },
      "source": [
        "Le nombre de labels possibles est 10: tous les chiffres de 0 à 9."
      ]
    },
    {
      "cell_type": "code",
      "execution_count": null,
      "metadata": {
        "colab": {
          "base_uri": "https://localhost:8080/"
        },
        "id": "eUleskG7tzXe",
        "outputId": "99b470ad-ab52-4ee2-9eb6-0ec504bf5686"
      },
      "outputs": [
        {
          "data": {
            "text/plain": [
              "10"
            ]
          },
          "execution_count": 7,
          "metadata": {
            "tags": []
          },
          "output_type": "execute_result"
        }
      ],
      "source": [
        "num_classes = y_train_original.max() +1\n",
        "num_classes"
      ]
    },
    {
      "cell_type": "markdown",
      "metadata": {
        "id": "fgSUauhVlOLo"
      },
      "source": [
        "On affiche la seconde image du jeu de données ainsi que son label."
      ]
    },
    {
      "cell_type": "code",
      "execution_count": null,
      "metadata": {
        "colab": {
          "base_uri": "https://localhost:8080/",
          "height": 299
        },
        "id": "K70PU-lCDY6m",
        "outputId": "28cffdc6-b980-4178-e0b6-116a98b4cd08"
      },
      "outputs": [
        {
          "name": "stdout",
          "output_type": "stream",
          "text": [
            "0\n"
          ]
        },
        {
          "data": {
            "text/plain": [
              "<matplotlib.image.AxesImage at 0x7ff546f46208>"
            ]
          },
          "execution_count": 8,
          "metadata": {
            "tags": []
          },
          "output_type": "execute_result"
        },
        {
          "data": {
            "image/png": "[encoded data removed]",
            "text/plain": [
              "<Figure size 432x288 with 1 Axes>"
            ]
          },
          "metadata": {
            "needs_background": "light",
            "tags": []
          },
          "output_type": "display_data"
        }
      ],
      "source": [
        "print(y_train_original[1])\n",
        "\n",
        "# plt.imshow(x_train_original[0, :, :, 0])\n",
        "plt.imshow(x_train_original[1], cmap = \"gray\")\n",
        "# plt.colorbar()"
      ]
    },
    {
      "cell_type": "markdown",
      "metadata": {
        "id": "hmOOnUv8oEfA"
      },
      "source": [
        "## Séparation des données"
      ]
    },
    {
      "cell_type": "markdown",
      "metadata": {
        "id": "ruUeZusRm2F7"
      },
      "source": [
        "On sépare le jeu de données d'entraînement initial en trois parties.\n",
        "<br>\n",
        "On commence d'abord par isoler 100 images. Ces 100 images serviront à construire notre baseline, c'est-à-dire nos modèles supervisés.\n",
        "\n",
        "On sépare ensuite les 59900 images restantes en deux parties.\n",
        "<br>\n",
        "On isole 10 000 images pour créer un jeu de données de validation qui nous servira notamment dans le réglage des hyperparamètres.\n",
        "<br>\n",
        "\n",
        "Les 49900 images restantes seront des données considérées comme \"sans label\".\n",
        "Ces images nous serviront uniquement lors de la suite du projet, pour construire nos modèles semi-supervisés."
      ]
    },
    {
      "cell_type": "code",
      "execution_count": null,
      "metadata": {
        "id": "nAVRGH45tOwh"
      },
      "outputs": [],
      "source": [
        "x_labeled, x_tmp, y_labeled, y_tmp = train_test_split(\n",
        "    x_train_original, y_train_original, test_size=59900, random_state = 18, shuffle = True, stratify = y_train_original)\n",
        "\n",
        "x_unlabeled, x_val, _, y_val = train_test_split(\n",
        "    x_tmp, y_tmp, test_size=10000, random_state = 18, shuffle = True, stratify = y_tmp)\n",
        "\n",
        "del x_tmp\n",
        "del y_tmp"
      ]
    },
    {
      "cell_type": "markdown",
      "metadata": {
        "id": "KL2d_3jZnJxT"
      },
      "source": [
        "On vérifie que l'on a bien les bonnes dimensions."
      ]
    },
    {
      "cell_type": "code",
      "execution_count": null,
      "metadata": {
        "colab": {
          "base_uri": "https://localhost:8080/"
        },
        "id": "nRtkgknpuPMD",
        "outputId": "1e85b642-6740-4b61-ef1a-82892a8191f4"
      },
      "outputs": [
        {
          "name": "stdout",
          "output_type": "stream",
          "text": [
            "(100, 28, 28)\n",
            "(100,)\n",
            "(49900, 28, 28)\n",
            "(10000, 28, 28)\n",
            "(10000,)\n"
          ]
        }
      ],
      "source": [
        "# Labeled data\n",
        "print(x_labeled.shape)\n",
        "print(y_labeled.shape)\n",
        "\n",
        "# Unlabeled data\n",
        "print(x_unlabeled.shape)\n",
        "\n",
        "\n",
        "# Validation data\n",
        "print(x_val.shape)\n",
        "print(y_val.shape)"
      ]
    },
    {
      "cell_type": "markdown",
      "metadata": {
        "id": "rSjprcbfnTIF"
      },
      "source": [
        "On vérifie que nos 100 images labélisées sont bien balancées."
      ]
    },
    {
      "cell_type": "code",
      "execution_count": null,
      "metadata": {
        "colab": {
          "base_uri": "https://localhost:8080/"
        },
        "id": "CU8xt5VtubrU",
        "outputId": "95854b63-456b-4483-c313-dd42a3e8cab6"
      },
      "outputs": [
        {
          "data": {
            "text/plain": [
              "Counter({0: 10, 1: 11, 2: 10, 3: 10, 4: 10, 5: 9, 6: 10, 7: 10, 8: 10, 9: 10})"
            ]
          },
          "execution_count": 11,
          "metadata": {
            "tags": []
          },
          "output_type": "execute_result"
        }
      ],
      "source": [
        "Counter(list(y_labeled.reshape(-1)))"
      ]
    },
    {
      "cell_type": "markdown",
      "metadata": {
        "id": "lfrhfqlInpNp"
      },
      "source": [
        "On vérifie que nos données de validation sont bien balancées."
      ]
    },
    {
      "cell_type": "code",
      "execution_count": null,
      "metadata": {
        "colab": {
          "base_uri": "https://localhost:8080/"
        },
        "id": "VuD5quoehHdU",
        "outputId": "a2552869-1701-49b3-b982-d75efce8c76f"
      },
      "outputs": [
        {
          "data": {
            "text/plain": [
              "Counter({0: 987,\n",
              "         1: 1124,\n",
              "         2: 993,\n",
              "         3: 1022,\n",
              "         4: 974,\n",
              "         5: 904,\n",
              "         6: 986,\n",
              "         7: 1044,\n",
              "         8: 975,\n",
              "         9: 991})"
            ]
          },
          "execution_count": 12,
          "metadata": {
            "tags": []
          },
          "output_type": "execute_result"
        }
      ],
      "source": [
        "Counter(list(y_val.reshape(-1)))"
      ]
    },
    {
      "cell_type": "markdown",
      "metadata": {
        "id": "OmHFGQQ3P3Zp"
      },
      "source": [
        "## Normalisation des données"
      ]
    },
    {
      "cell_type": "markdown",
      "metadata": {
        "id": "ygcmDIzpnuoN"
      },
      "source": [
        "On normalise les données pour qu'elles soient comprises entre 0 et 1.\n",
        "<br>\n",
        "Les valeurs de chaque pixel étant comprises entre 0 et 255, il suffit de diviser par 255 pour normaliser.\n",
        "\n",
        "---\n",
        "\n",
        "\n"
      ]
    },
    {
      "cell_type": "code",
      "execution_count": null,
      "metadata": {
        "id": "kR4x6YWwP36w"
      },
      "outputs": [],
      "source": [
        "# Conversion en réel\n",
        "x_train_original = x_train_original.astype('float32')\n",
        "x_test = x_test.astype('float32')\n",
        "x_labeled = x_labeled.astype('float32')\n",
        "x_val = x_val.astype('float32')\n",
        "x_unlabeled = x_unlabeled.astype('float32')"
      ]
    },
    {
      "cell_type": "code",
      "execution_count": null,
      "metadata": {
        "id": "-1CTf3q_rKs_"
      },
      "outputs": [],
      "source": [
        "# Normalisation\n",
        "x_train_original /= 255\n",
        "x_test /= 255\n",
        "x_labeled /= 255\n",
        "x_val /= 255\n",
        "x_unlabeled /= 255"
      ]
    },
    {
      "cell_type": "markdown",
      "metadata": {
        "id": "4qxI4Csz_dOy"
      },
      "source": [
        "One-hot encoding."
      ]
    },
    {
      "cell_type": "code",
      "execution_count": null,
      "metadata": {
        "id": "qF47JeXx1CPK"
      },
      "outputs": [],
      "source": [
        "y_train_original = to_categorical(y_train_original, num_classes)\n",
        "y_test = to_categorical(y_test, num_classes)\n",
        "y_labeled = to_categorical(y_labeled, num_classes)\n",
        "y_val = to_categorical(y_val, num_classes)"
      ]
    },
    {
      "cell_type": "markdown",
      "metadata": {
        "id": "9Bap8OaO5yjk"
      },
      "source": [
        "# Création des réseaux de neurones supervisés (baseline)"
      ]
    },
    {
      "cell_type": "markdown",
      "metadata": {
        "id": "EGnsyj6q_kee"
      },
      "source": [
        "## Optimisation des hyperparamètres"
      ]
    },
    {
      "cell_type": "markdown",
      "metadata": {
        "id": "rJmWEwZW580d"
      },
      "source": [
        "### Perceptron multicouches (MLP)"
      ]
    },
    {
      "cell_type": "code",
      "execution_count": null,
      "metadata": {
        "id": "ukqWhIbtFuLi"
      },
      "outputs": [],
      "source": [
        "clear_session()"
      ]
    },
    {
      "cell_type": "markdown",
      "metadata": {
        "id": "ryQj-GmXnD5t"
      },
      "source": [
        "#### Définition de l'HyperModel\n",
        "\n",
        "\n",
        "\n"
      ]
    },
    {
      "cell_type": "markdown",
      "metadata": {
        "id": "_JSuYYXb08fP"
      },
      "source": [
        "On définit la structure du modèle perceptron multicouches à optimiser.\n",
        "\n",
        "Notre modèle comportera une couche d'entrée avec un nombre de neurones appartenant à l'ensenble $\\{64, 128, 256\\}$. Cette couche d'entrée sera suivie d'une Batch Normalization, d'une activation ReLU et d'un dropout dont le taux appartiendra à l'ensemble $\\{0.4, 0.5, 0.6\\}$.\n",
        "\n",
        "Ensuite, le nombre de couches câchées sera compris entre 1 et 2 et chacune de ces couches sera construite comme la couche d'entrée.\n",
        "\n",
        "Enfin, notre modèle comportera une couche de sortie composée de 10 neurones (nombre de classes) et d'une activation softmax.\n",
        "\n",
        "L'optimiseur que l'on utilisera sera l'optimiseur Adam, et son pas d'apprentissage sera fixé à $10^{-3}$."
      ]
    },
    {
      "cell_type": "code",
      "execution_count": null,
      "metadata": {
        "id": "GGahvTkjDZCz"
      },
      "outputs": [],
      "source": [
        "def model_builder(hp):\n",
        "  model_MLP = Sequential()\n",
        "  model_MLP.add(Flatten(input_shape=(28, 28))) #dimension des images  \n",
        "\n",
        "  # Couche d'entrée\n",
        "  model_MLP.add(Dense(units = hp.Choice(name = 'input_layer_units',\n",
        "                                        values = [64, 128, 256]),\n",
        "                      input_shape = (784,))) # 28 * 28 = 784\n",
        "  model_MLP.add(BatchNormalization())\n",
        "  model_MLP.add(ReLU())\n",
        "  model_MLP.add(Dropout(rate = hp.Choice(name = 'input_layer_dropout_rate',\n",
        "                                         values = [0.4, 0.5, 0.6])))\n",
        "\n",
        "  # Couches câchées: on décide de créer entre 1 et 2 couches câchées\n",
        "  for i in range(hp.Int('n_hidden_layers', min_value = 1, max_value = 2)):\n",
        "        model_MLP.add(Dense(units = hp.Choice(name = f'hidden_layer_{i+1}_units',\n",
        "                                              values = [64,128, 256])))\n",
        "        model_MLP.add(BatchNormalization()) #regularization on the fully connected network\n",
        "        model_MLP.add(ReLU())\n",
        "        model_MLP.add(Dropout(rate = hp.Choice(name = f'hidden_layer_{i+1}_dropout_rate',\n",
        "                                               values = [0.4, 0.5, 0.6])))\n",
        "\n",
        "  # Couche de sortie\n",
        "  model_MLP.add(Dense(num_classes, activation = 'softmax'))\n",
        "\n",
        "  # Optimiseur\n",
        "  model_MLP.compile(optimizer = Adam(learning_rate = 1e-3),\n",
        "                    loss = keras.losses.CategoricalCrossentropy(from_logits = False), \n",
        "                    metrics = ['accuracy'])\n",
        "  \n",
        "  return model_MLP"
      ]
    },
    {
      "cell_type": "markdown",
      "metadata": {
        "id": "L69HGjtcDeLZ"
      },
      "source": [
        "On définit la façon dont on va chercher le modèle optimal.\n",
        "<br>\n",
        "Ici, on essaye 25 modèles en choisissant de manière aléatoire leurs paramètres parmis ceux proposés.\n",
        "<br>\n",
        "On fixe la graine à 1 afin de rendre nos résultats reproductibles.\n",
        "<br>\n",
        "On testera chacun de ces modèles une seule fois et un sauvegardera les résultats dans un dossier Google Drive."
      ]
    },
    {
      "cell_type": "code",
      "execution_count": null,
      "metadata": {
        "colab": {
          "base_uri": "https://localhost:8080/"
        },
        "id": "4_QAlFPyDZF4",
        "outputId": "0aa4a992-c3a1-4cbe-8b64-065c88cbf121"
      },
      "outputs": [
        {
          "name": "stdout",
          "output_type": "stream",
          "text": [
            "INFO:tensorflow:Reloading Oracle from existing project /content/drive/My Drive/MNIST_baseline/KerasTuner_baseline_MLP/oracle.json\n",
            "INFO:tensorflow:Reloading Tuner from /content/drive/My Drive/MNIST_baseline/KerasTuner_baseline_MLP/tuner0.json\n"
          ]
        }
      ],
      "source": [
        "tuner = kt.RandomSearch(\n",
        "    model_builder,\n",
        "    objective='val_accuracy',\n",
        "    max_trials=25,\n",
        "    executions_per_trial=1,\n",
        "    seed = 1,\n",
        "    directory='/content/drive/My Drive/MNIST_baseline',\n",
        "    project_name='KerasTuner_baseline_MLP')"
      ]
    },
    {
      "cell_type": "markdown",
      "metadata": {
        "id": "fUgEuIZiJmxU"
      },
      "source": [
        "#### Entrainement de l'HyperModel"
      ]
    },
    {
      "cell_type": "markdown",
      "metadata": {
        "id": "qRzufIsHspm5"
      },
      "source": [
        "Ce callback permet d'effacer les sorties d'entrainement après chaque étape d'entrainement.\n"
      ]
    },
    {
      "cell_type": "code",
      "execution_count": null,
      "metadata": {
        "id": "1fA6HbBLDZIx"
      },
      "outputs": [],
      "source": [
        "class ClearTrainingOutput(tf.keras.callbacks.Callback):\n",
        "  def on_train_end(*args, **kwargs):\n",
        "    IPython.display.clear_output(wait = True)"
      ]
    },
    {
      "cell_type": "markdown",
      "metadata": {
        "id": "eUmggSrnHDVx"
      },
      "source": [
        "On effectue la recherche des hyperparamètres optimaux.\n",
        "<br>\n",
        "On les sauvegarde ensuite dans la variable **best_hps_MLP** pour pouvoir définir le modèle optimal ensuite."
      ]
    },
    {
      "cell_type": "code",
      "execution_count": null,
      "metadata": {
        "colab": {
          "base_uri": "https://localhost:8080/"
        },
        "id": "DyZlCwjYDZLh",
        "outputId": "13649600-8b78-4a33-a78d-f2fcb6ee14e8"
      },
      "outputs": [
        {
          "name": "stdout",
          "output_type": "stream",
          "text": [
            "INFO:tensorflow:Oracle triggered exit\n"
          ]
        }
      ],
      "source": [
        "epochs_number = 20\n",
        "\n",
        "tuner.search(x_labeled, y_labeled, epochs = epochs_number,\n",
        "             validation_data = (x_val, y_val), callbacks = [ClearTrainingOutput()])\n",
        "\n",
        "# Hyperparamètres optimaux\n",
        "best_hps_MLP = tuner.get_best_hyperparameters()[0]"
      ]
    },
    {
      "cell_type": "markdown",
      "metadata": {
        "id": "UkOlO5tXCXgn"
      },
      "source": [
        "### Réseau de convolution (CNN)"
      ]
    },
    {
      "cell_type": "code",
      "execution_count": null,
      "metadata": {
        "id": "v98O3FEkFo_Y"
      },
      "outputs": [],
      "source": [
        "clear_session()"
      ]
    },
    {
      "cell_type": "markdown",
      "metadata": {
        "id": "by1zd3BhEIdC"
      },
      "source": [
        "#### Définition de l'HyperModel"
      ]
    },
    {
      "cell_type": "markdown",
      "metadata": {
        "id": "80hW3BTdNaB0"
      },
      "source": [
        "On définit la structure du modèle CNN à optimiser.\n",
        "\n",
        "Notre modèle comportera une première couche de convolution avec un nombre de filtres appartenant à l'ensemble $\\{16, 32, 64\\}$. Les filtres seront de dimension $(1, 1)$ et le stride sera de dimension $(1, 1)$. Cette couche sera suivie d'une activation ReLU.\n",
        "\n",
        "Ensuite, il y aura un bloc d'une ou deux couches de convolutions de la même façon que précédemment. Après ce bloc, on effectuera un Max Pooling de dimension $(2,2)$ et un dropout avec un taux appartenant à l'ensemble $\\{0.5, 0.6, 0.7\\}$\n",
        "\n",
        "Après cela s'ajoutera un bloc d'une ou deux couches complètement connectées (FC layers). Une couche contiendra ici un nombre de neurones appartenant à l'ensemble $\\{64, 128, 256\\}$ et sera suivie d'une batch normalization, d'une activation ReLU et d'un dropout avec un taux appartenant au même ensemble que précédemment.\n",
        "\n",
        "Enfin, notre modèle comportera une couche de sortie composée de 10 neurones (nombre de classes) et d'une activation softmax.\n",
        "\n",
        "L'optimiseur que l'on utilisera sera l'optimiseur Adam, et son pas d'apprentissage sera fixé à $10^{-3}$."
      ]
    },
    {
      "cell_type": "code",
      "execution_count": null,
      "metadata": {
        "id": "M7dhX1Rtk4Y1"
      },
      "outputs": [],
      "source": [
        "def model_builder_CNN(hp):\n",
        "\n",
        "  model_CNN = Sequential()\n",
        "\n",
        "  # Première couche de convolution\n",
        "  model_CNN.add(Conv2D(filters = hp.Choice(name = 'input_conv_filters',\n",
        "                                           values = [16, 32, 64]),\n",
        "                       kernel_size = (1, 1), padding='same', strides = (1, 1),\n",
        "                       input_shape=(28,28,1)))\n",
        "  model_CNN.add(ReLU())\n",
        "\n",
        "  # Bloc de 1 ou 2 couche(s) de convolution. Ce bloc est suivie d'un max pooling et d'un dropout\n",
        "  for i in range(hp.Int('n_layers', min_value = 1, max_value = 2)):\n",
        "    model_CNN.add(Conv2D(filters = hp.Choice(name = f'conv_{i+1}_filters',\n",
        "                                             values = [16, 32, 64]),\n",
        "                         kernel_size = (1,1), padding='same', strides = (1,1)))\n",
        "    model_CNN.add(ReLU())\n",
        "  model_CNN.add(MaxPooling2D(pool_size=(2, 2)))\n",
        "  model_CNN.add(Dropout(rate = hp.Choice(name = 'conv_dropout_rate',\n",
        "                                               values = [0.5, 0.6, 0.7])))\n",
        "  \n",
        "  # Partie dense\n",
        "  model_CNN.add(Flatten())\n",
        "  ## Couches complètement connectées: on décide d'en créer entre 1 et 2\n",
        "  for i in range(hp.Int('n_FC_layers', min_value = 1, max_value = 2)):\n",
        "        model_CNN.add(Dense(units = hp.Choice(name = f'FC_layer_{i+1}_units',\n",
        "                                              values = [64, 128, 256])))\n",
        "        model_CNN.add(BatchNormalization())\n",
        "        model_CNN.add(ReLU())\n",
        "        model_CNN.add(Dropout(rate = hp.Choice(name = f'FC_layer_{i+1}_dropout_rate',\n",
        "                                               values = [0.5, 0.6, 0.7])))\n",
        "\n",
        "\n",
        "  ## Couche de sortie\n",
        "  model_CNN.add(Dense(num_classes, activation = 'softmax'))\n",
        "\n",
        " \n",
        "  model_CNN.compile(optimizer = Adam(learning_rate = 1e-3),\n",
        "                    loss = keras.losses.CategoricalCrossentropy(from_logits = False), \n",
        "                    metrics = ['accuracy'])\n",
        "  \n",
        "  return model_CNN"
      ]
    },
    {
      "cell_type": "markdown",
      "metadata": {
        "id": "CcmltaiaLQSb"
      },
      "source": [
        "#### Entrainement de l'HyperModel"
      ]
    },
    {
      "cell_type": "markdown",
      "metadata": {
        "id": "W82YY4Q4JPxd"
      },
      "source": [
        "On définit la façon dont on va chercher le modèle optimal.\n",
        "<br>\n",
        "Ici, on essaye 25 modèles en choisissant de manière aléatoire leurs paramètres parmis ceux proposés.\n",
        "<br>\n",
        "On fixe la graine à 1 afin de rendre nos résultats reproductibles.\n",
        "<br>\n",
        "On testera chacun de ces modèles une seule fois et un sauvegardera les résultats dans un dossier Google Drive."
      ]
    },
    {
      "cell_type": "code",
      "execution_count": null,
      "metadata": {
        "colab": {
          "base_uri": "https://localhost:8080/"
        },
        "id": "Hk95kRvUwDmJ",
        "outputId": "3fead293-fd99-48de-bf7b-f89c4cbd9259"
      },
      "outputs": [
        {
          "name": "stdout",
          "output_type": "stream",
          "text": [
            "INFO:tensorflow:Reloading Oracle from existing project /content/drive/My Drive/MNIST_baseline/KerasTuner_baseline_CNN/oracle.json\n",
            "INFO:tensorflow:Reloading Tuner from /content/drive/My Drive/MNIST_baseline/KerasTuner_baseline_CNN/tuner0.json\n"
          ]
        }
      ],
      "source": [
        "tuner_CNN = kt.RandomSearch(\n",
        "    model_builder_CNN,\n",
        "    objective='val_accuracy',\n",
        "    max_trials=25,\n",
        "    executions_per_trial=1,\n",
        "    seed = 1,\n",
        "    directory='/content/drive/My Drive/MNIST_baseline',\n",
        "    project_name='KerasTuner_baseline_CNN')"
      ]
    },
    {
      "cell_type": "markdown",
      "metadata": {
        "id": "TMlTvRpKLHIh"
      },
      "source": [
        "On effectue la recherche des hyperparamètres optimaux.\n",
        "<br>\n",
        "On les sauvegarde ensuite dans la variable **best_hps_CNN** pour pouvoir définir le modèle optimal ensuite."
      ]
    },
    {
      "cell_type": "code",
      "execution_count": null,
      "metadata": {
        "colab": {
          "base_uri": "https://localhost:8080/"
        },
        "id": "tO_t8K0wvu6u",
        "outputId": "8308f103-4003-4594-da1d-cb4cec33c74e"
      },
      "outputs": [
        {
          "name": "stdout",
          "output_type": "stream",
          "text": [
            "INFO:tensorflow:Oracle triggered exit\n"
          ]
        }
      ],
      "source": [
        "epochs_number = 20\n",
        "\n",
        "# On doit faire un reshape pour avoir le channel dans une dimension\n",
        "tuner_CNN.search(x_labeled.reshape(len(x_labeled),28,28,1), y_labeled, epochs = epochs_number,\n",
        "                 validation_data = (x_val.reshape(len(x_val),28,28,1), y_val), callbacks = [ClearTrainingOutput()])\n",
        "\n",
        "# Meilleurs hyperparamètres\n",
        "best_hps_CNN = tuner_CNN.get_best_hyperparameters()[0]"
      ]
    },
    {
      "cell_type": "markdown",
      "metadata": {
        "id": "uhE2_D6owVJC"
      },
      "source": [
        "## Modèles optimaux"
      ]
    },
    {
      "cell_type": "markdown",
      "metadata": {
        "id": "1lUvmiiawdOO"
      },
      "source": [
        "### Perceptron multicouches (MLP)"
      ]
    },
    {
      "cell_type": "code",
      "execution_count": null,
      "metadata": {
        "id": "HSz1AxbvLWom"
      },
      "outputs": [],
      "source": [
        "clear_session()"
      ]
    },
    {
      "cell_type": "markdown",
      "metadata": {
        "id": "sb6Ms-2h7MqJ"
      },
      "source": [
        "#### Entrainement"
      ]
    },
    {
      "cell_type": "markdown",
      "metadata": {
        "id": "oCGpcTmSMiTh"
      },
      "source": [
        "On commence par afficher les hyperparamètres optimaux."
      ]
    },
    {
      "cell_type": "code",
      "execution_count": null,
      "metadata": {
        "colab": {
          "base_uri": "https://localhost:8080/"
        },
        "id": "JUKPkFDBMg88",
        "outputId": "fcf2ae54-2cb8-4cc6-b9d6-10045e69d80e"
      },
      "outputs": [
        {
          "name": "stdout",
          "output_type": "stream",
          "text": [
            "{'input_layer_units': 128, 'input_layer_dropout_rate': 0.5, 'n_hidden_layers': 1, 'hidden_layer_1_units': 256, 'hidden_layer_1_dropout_rate': 0.5, 'hidden_layer_2_units': 256, 'hidden_layer_2_dropout_rate': 0.6}\n"
          ]
        }
      ],
      "source": [
        "print(best_hps_MLP.values)"
      ]
    },
    {
      "cell_type": "markdown",
      "metadata": {
        "id": "vC1NGkY5MdyQ"
      },
      "source": [
        "On construit ensuite le modèle optimal."
      ]
    },
    {
      "cell_type": "code",
      "execution_count": null,
      "metadata": {
        "id": "TRJsARuLMdBX"
      },
      "outputs": [],
      "source": [
        "best_model_MLP = tuner.hypermodel.build(best_hps_MLP)"
      ]
    },
    {
      "cell_type": "markdown",
      "metadata": {
        "id": "hmklWuioMk_O"
      },
      "source": [
        "On affiche un résumé de ce modèle."
      ]
    },
    {
      "cell_type": "code",
      "execution_count": null,
      "metadata": {
        "colab": {
          "base_uri": "https://localhost:8080/"
        },
        "id": "boF3xnvFMoAj",
        "outputId": "f132d948-15dc-4f37-e9d8-79d8eef5f365"
      },
      "outputs": [
        {
          "name": "stdout",
          "output_type": "stream",
          "text": [
            "Model: \"sequential\"\n",
            "_________________________________________________________________\n",
            "Layer (type)                 Output Shape              Param #   \n",
            "=================================================================\n",
            "flatten (Flatten)            (None, 784)               0         \n",
            "_________________________________________________________________\n",
            "dense (Dense)                (None, 128)               100480    \n",
            "_________________________________________________________________\n",
            "batch_normalization (BatchNo (None, 128)               512       \n",
            "_________________________________________________________________\n",
            "re_lu (ReLU)                 (None, 128)               0         \n",
            "_________________________________________________________________\n",
            "dropout (Dropout)            (None, 128)               0         \n",
            "_________________________________________________________________\n",
            "dense_1 (Dense)              (None, 256)               33024     \n",
            "_________________________________________________________________\n",
            "batch_normalization_1 (Batch (None, 256)               1024      \n",
            "_________________________________________________________________\n",
            "re_lu_1 (ReLU)               (None, 256)               0         \n",
            "_________________________________________________________________\n",
            "dropout_1 (Dropout)          (None, 256)               0         \n",
            "_________________________________________________________________\n",
            "dense_2 (Dense)              (None, 10)                2570      \n",
            "=================================================================\n",
            "Total params: 137,610\n",
            "Trainable params: 136,842\n",
            "Non-trainable params: 768\n",
            "_________________________________________________________________\n"
          ]
        }
      ],
      "source": [
        "best_model_MLP.summary()"
      ]
    },
    {
      "cell_type": "markdown",
      "metadata": {
        "id": "EkQ_x7fiIr4H"
      },
      "source": [
        "On entraine le modèle optimal sur 100 epochs avec une taille de batch égale à 32. <br>\n",
        "On veille également à ajouter un Early Stopping afin d'améliorer les performances de notre modèle."
      ]
    },
    {
      "cell_type": "code",
      "execution_count": null,
      "metadata": {
        "colab": {
          "base_uri": "https://localhost:8080/"
        },
        "id": "MDrO30HVDZOS",
        "outputId": "2ea1140f-114e-40d8-facf-cfeff4cda451"
      },
      "outputs": [
        {
          "name": "stdout",
          "output_type": "stream",
          "text": [
            "Epoch 1/100\n",
            "7/7 [==============================] - 2s 187ms/step - loss: 3.2997 - accuracy: 0.0339 - val_loss: 2.2796 - val_accuracy: 0.1828\n",
            "Epoch 2/100\n",
            "7/7 [==============================] - 1s 105ms/step - loss: 2.6938 - accuracy: 0.2032 - val_loss: 2.1818 - val_accuracy: 0.3065\n",
            "Epoch 3/100\n",
            "7/7 [==============================] - 1s 101ms/step - loss: 2.1326 - accuracy: 0.2926 - val_loss: 2.0807 - val_accuracy: 0.3856\n",
            "Epoch 4/100\n",
            "7/7 [==============================] - 1s 110ms/step - loss: 1.9546 - accuracy: 0.3736 - val_loss: 1.9877 - val_accuracy: 0.4365\n",
            "Epoch 5/100\n",
            "7/7 [==============================] - 1s 106ms/step - loss: 1.6916 - accuracy: 0.4245 - val_loss: 1.9035 - val_accuracy: 0.4684\n",
            "Epoch 6/100\n",
            "7/7 [==============================] - 1s 107ms/step - loss: 1.4421 - accuracy: 0.5276 - val_loss: 1.8202 - val_accuracy: 0.4899\n",
            "Epoch 7/100\n",
            "7/7 [==============================] - 1s 108ms/step - loss: 1.3426 - accuracy: 0.5118 - val_loss: 1.7382 - val_accuracy: 0.5278\n",
            "Epoch 8/100\n",
            "7/7 [==============================] - 1s 104ms/step - loss: 1.2028 - accuracy: 0.6384 - val_loss: 1.6659 - val_accuracy: 0.5651\n",
            "Epoch 9/100\n",
            "7/7 [==============================] - 1s 104ms/step - loss: 1.1089 - accuracy: 0.6749 - val_loss: 1.6028 - val_accuracy: 0.5794\n",
            "Epoch 10/100\n",
            "7/7 [==============================] - 1s 106ms/step - loss: 1.0142 - accuracy: 0.6734 - val_loss: 1.5403 - val_accuracy: 0.5975\n",
            "Epoch 11/100\n",
            "7/7 [==============================] - 1s 103ms/step - loss: 0.9117 - accuracy: 0.6953 - val_loss: 1.4782 - val_accuracy: 0.6156\n",
            "Epoch 12/100\n",
            "7/7 [==============================] - 1s 110ms/step - loss: 0.7848 - accuracy: 0.8152 - val_loss: 1.4222 - val_accuracy: 0.6406\n",
            "Epoch 13/100\n",
            "7/7 [==============================] - 1s 108ms/step - loss: 0.7837 - accuracy: 0.7883 - val_loss: 1.3688 - val_accuracy: 0.6618\n",
            "Epoch 14/100\n",
            "7/7 [==============================] - 1s 103ms/step - loss: 0.7960 - accuracy: 0.7962 - val_loss: 1.3272 - val_accuracy: 0.6651\n",
            "Epoch 15/100\n",
            "7/7 [==============================] - 1s 110ms/step - loss: 0.6623 - accuracy: 0.8247 - val_loss: 1.2929 - val_accuracy: 0.6670\n",
            "Epoch 16/100\n",
            "7/7 [==============================] - 1s 107ms/step - loss: 0.5405 - accuracy: 0.9211 - val_loss: 1.2518 - val_accuracy: 0.6707\n",
            "Epoch 17/100\n",
            "7/7 [==============================] - 1s 107ms/step - loss: 0.6575 - accuracy: 0.7702 - val_loss: 1.2059 - val_accuracy: 0.6778\n",
            "Epoch 18/100\n",
            "7/7 [==============================] - 1s 109ms/step - loss: 0.6114 - accuracy: 0.8370 - val_loss: 1.1624 - val_accuracy: 0.6848\n",
            "Epoch 19/100\n",
            "7/7 [==============================] - 1s 103ms/step - loss: 0.5448 - accuracy: 0.7916 - val_loss: 1.1276 - val_accuracy: 0.6892\n",
            "Epoch 20/100\n",
            "7/7 [==============================] - 1s 105ms/step - loss: 0.4909 - accuracy: 0.8562 - val_loss: 1.0906 - val_accuracy: 0.6947\n",
            "Epoch 21/100\n",
            "7/7 [==============================] - 1s 118ms/step - loss: 0.4583 - accuracy: 0.8751 - val_loss: 1.0689 - val_accuracy: 0.6943\n",
            "Epoch 22/100\n",
            "7/7 [==============================] - 1s 117ms/step - loss: 0.5806 - accuracy: 0.8126 - val_loss: 1.0393 - val_accuracy: 0.7003\n",
            "Epoch 23/100\n",
            "7/7 [==============================] - 1s 112ms/step - loss: 0.4738 - accuracy: 0.8697 - val_loss: 1.0071 - val_accuracy: 0.7099\n",
            "Epoch 24/100\n",
            "7/7 [==============================] - 1s 107ms/step - loss: 0.6252 - accuracy: 0.7835 - val_loss: 0.9979 - val_accuracy: 0.7075\n",
            "Epoch 25/100\n",
            "7/7 [==============================] - 1s 110ms/step - loss: 0.3737 - accuracy: 0.9252 - val_loss: 0.9726 - val_accuracy: 0.7087\n",
            "Epoch 26/100\n",
            "7/7 [==============================] - 1s 107ms/step - loss: 0.4193 - accuracy: 0.8851 - val_loss: 0.9479 - val_accuracy: 0.7111\n",
            "Epoch 27/100\n",
            "7/7 [==============================] - 1s 108ms/step - loss: 0.4516 - accuracy: 0.8878 - val_loss: 0.9335 - val_accuracy: 0.7112\n",
            "Epoch 28/100\n",
            "7/7 [==============================] - 1s 128ms/step - loss: 0.4834 - accuracy: 0.8254 - val_loss: 0.9288 - val_accuracy: 0.7084\n",
            "Epoch 29/100\n",
            "7/7 [==============================] - 1s 104ms/step - loss: 0.3669 - accuracy: 0.9042 - val_loss: 0.9134 - val_accuracy: 0.7069\n",
            "Epoch 30/100\n",
            "7/7 [==============================] - 1s 106ms/step - loss: 0.4076 - accuracy: 0.8981 - val_loss: 0.8969 - val_accuracy: 0.7112\n",
            "Epoch 31/100\n",
            "7/7 [==============================] - 1s 103ms/step - loss: 0.3060 - accuracy: 0.9283 - val_loss: 0.8807 - val_accuracy: 0.7157\n",
            "Epoch 32/100\n",
            "7/7 [==============================] - 1s 107ms/step - loss: 0.3654 - accuracy: 0.9075 - val_loss: 0.8691 - val_accuracy: 0.7201\n",
            "Epoch 33/100\n",
            "7/7 [==============================] - 1s 102ms/step - loss: 0.4445 - accuracy: 0.8644 - val_loss: 0.8621 - val_accuracy: 0.7218\n",
            "Epoch 34/100\n",
            "7/7 [==============================] - 1s 101ms/step - loss: 0.2919 - accuracy: 0.9479 - val_loss: 0.8549 - val_accuracy: 0.7239\n",
            "Epoch 35/100\n",
            "7/7 [==============================] - 1s 114ms/step - loss: 0.2743 - accuracy: 0.9536 - val_loss: 0.8490 - val_accuracy: 0.7238\n",
            "Epoch 36/100\n",
            "7/7 [==============================] - 1s 110ms/step - loss: 0.4201 - accuracy: 0.8707 - val_loss: 0.8432 - val_accuracy: 0.7253\n",
            "Epoch 37/100\n",
            "7/7 [==============================] - 1s 104ms/step - loss: 0.2416 - accuracy: 0.9537 - val_loss: 0.8393 - val_accuracy: 0.7249\n",
            "Epoch 38/100\n",
            "7/7 [==============================] - 1s 114ms/step - loss: 0.3238 - accuracy: 0.9143 - val_loss: 0.8398 - val_accuracy: 0.7204\n",
            "Epoch 39/100\n",
            "7/7 [==============================] - 1s 108ms/step - loss: 0.1955 - accuracy: 0.9924 - val_loss: 0.8415 - val_accuracy: 0.7211\n",
            "Epoch 40/100\n",
            "7/7 [==============================] - 1s 96ms/step - loss: 0.3350 - accuracy: 0.9125 - val_loss: 0.8391 - val_accuracy: 0.7215\n",
            "Epoch 41/100\n",
            "7/7 [==============================] - 1s 111ms/step - loss: 0.2945 - accuracy: 0.8649 - val_loss: 0.8420 - val_accuracy: 0.7179\n",
            "Epoch 42/100\n",
            "7/7 [==============================] - 1s 105ms/step - loss: 0.2100 - accuracy: 0.9586 - val_loss: 0.8386 - val_accuracy: 0.7206\n",
            "Epoch 43/100\n",
            "7/7 [==============================] - 1s 104ms/step - loss: 0.2408 - accuracy: 0.9738 - val_loss: 0.8398 - val_accuracy: 0.7228\n",
            "Epoch 44/100\n",
            "7/7 [==============================] - 1s 112ms/step - loss: 0.2989 - accuracy: 0.9093 - val_loss: 0.8377 - val_accuracy: 0.7239\n",
            "Epoch 45/100\n",
            "7/7 [==============================] - 1s 109ms/step - loss: 0.2148 - accuracy: 0.9730 - val_loss: 0.8365 - val_accuracy: 0.7232\n",
            "Epoch 46/100\n",
            "7/7 [==============================] - 1s 102ms/step - loss: 0.1646 - accuracy: 0.9630 - val_loss: 0.8299 - val_accuracy: 0.7260\n",
            "Epoch 47/100\n",
            "7/7 [==============================] - 1s 103ms/step - loss: 0.1854 - accuracy: 0.9824 - val_loss: 0.8246 - val_accuracy: 0.7280\n",
            "Epoch 48/100\n",
            "7/7 [==============================] - 1s 98ms/step - loss: 0.2794 - accuracy: 0.9249 - val_loss: 0.8310 - val_accuracy: 0.7267\n",
            "Epoch 49/100\n",
            "7/7 [==============================] - 1s 98ms/step - loss: 0.2014 - accuracy: 0.9362 - val_loss: 0.8331 - val_accuracy: 0.7239\n",
            "Epoch 50/100\n",
            "7/7 [==============================] - 1s 102ms/step - loss: 0.2516 - accuracy: 0.9269 - val_loss: 0.8396 - val_accuracy: 0.7226\n",
            "Epoch 51/100\n",
            "7/7 [==============================] - 1s 105ms/step - loss: 0.1510 - accuracy: 0.9862 - val_loss: 0.8442 - val_accuracy: 0.7236\n",
            "Epoch 52/100\n",
            "7/7 [==============================] - 1s 109ms/step - loss: 0.1497 - accuracy: 0.9685 - val_loss: 0.8452 - val_accuracy: 0.7238\n",
            "Epoch 53/100\n",
            "7/7 [==============================] - 1s 103ms/step - loss: 0.3297 - accuracy: 0.8503 - val_loss: 0.8481 - val_accuracy: 0.7243\n",
            "Epoch 54/100\n",
            "7/7 [==============================] - 1s 108ms/step - loss: 0.2224 - accuracy: 0.9014 - val_loss: 0.8541 - val_accuracy: 0.7237\n",
            "Epoch 55/100\n",
            "7/7 [==============================] - 1s 104ms/step - loss: 0.2868 - accuracy: 0.9651 - val_loss: 0.8622 - val_accuracy: 0.7230\n",
            "Epoch 56/100\n",
            "7/7 [==============================] - 1s 98ms/step - loss: 0.2176 - accuracy: 0.9800 - val_loss: 0.8649 - val_accuracy: 0.7227\n",
            "Epoch 57/100\n",
            "7/7 [==============================] - 1s 109ms/step - loss: 0.1880 - accuracy: 0.9847 - val_loss: 0.8571 - val_accuracy: 0.7270\n",
            "Epoch 00057: early stopping\n"
          ]
        }
      ],
      "source": [
        "es = EarlyStopping(monitor='val_loss', mode='min', verbose=1, patience = 10)\n",
        "hist_best_model_MLP = best_model_MLP.fit(x_labeled, y_labeled,\n",
        "                                         epochs = 100,\n",
        "                                         batch_size = 16,\n",
        "                                         validation_data = (x_val, y_val),\n",
        "                                         shuffle = True, callbacks = [es])"
      ]
    },
    {
      "cell_type": "markdown",
      "metadata": {
        "id": "_ygGAZK7I9y3"
      },
      "source": [
        "On sauvegarde le modèle optimal après entrainement pour pouvoir le réutiliser directement.\n"
      ]
    },
    {
      "cell_type": "code",
      "execution_count": null,
      "metadata": {
        "colab": {
          "base_uri": "https://localhost:8080/"
        },
        "id": "-qLc4JS4wBQq",
        "outputId": "cd008060-4a59-4ba9-a8b3-8aed8da2461d"
      },
      "outputs": [
        {
          "name": "stdout",
          "output_type": "stream",
          "text": [
            "INFO:tensorflow:Assets written to: /content/drive/My Drive/MNIST_baseline/optimal_model_MLP/assets\n"
          ]
        }
      ],
      "source": [
        "model_save_name = 'optimal_model_MLP'\n",
        "path = F\"/content/drive/My Drive/MNIST_baseline/{model_save_name}\" \n",
        "best_model_MLP.save(path)"
      ]
    },
    {
      "cell_type": "markdown",
      "metadata": {
        "id": "tKsLkrAUwgdp"
      },
      "source": [
        "#### Résultats"
      ]
    },
    {
      "cell_type": "markdown",
      "metadata": {
        "id": "fEYwfSO9JFbG"
      },
      "source": [
        "On affiche les résultats obtenus. Ici, on affiche l'accuracy du modèle en fonction du nombre d'epochs.\n",
        "\n"
      ]
    },
    {
      "cell_type": "code",
      "execution_count": null,
      "metadata": {
        "colab": {
          "base_uri": "https://localhost:8080/",
          "height": 312
        },
        "id": "aoi9nof9cNke",
        "outputId": "168f8d85-ae71-4fe1-ce6f-c5de83a547fd"
      },
      "outputs": [
        {
          "data": {
            "text/plain": [
              "<matplotlib.legend.Legend at 0x7ff540fe9b70>"
            ]
          },
          "execution_count": 31,
          "metadata": {
            "tags": []
          },
          "output_type": "execute_result"
        },
        {
          "data": {
            "image/png": "[encoded data removed]",
            "text/plain": [
              "<Figure size 432x288 with 1 Axes>"
            ]
          },
          "metadata": {
            "needs_background": "light",
            "tags": []
          },
          "output_type": "display_data"
        }
      ],
      "source": [
        "plt.plot(hist_best_model_MLP.history['accuracy'], label='training set',marker='o', linestyle='solid',linewidth=1, markersize=6)\n",
        "plt.plot(hist_best_model_MLP.history['val_accuracy'], label='validation set',marker='o', linestyle='solid',linewidth=1, markersize=6)\n",
        "plt.title(\"MLP-model accuracy\")\n",
        "plt.xlabel('Epochs')\n",
        "plt.ylabel('Acuracy')\n",
        "plt.legend(bbox_to_anchor=( 1., 1.))"
      ]
    },
    {
      "cell_type": "markdown",
      "metadata": {
        "id": "2DvVhch-JLoh"
      },
      "source": [
        "Ici, on affiche la loss du modèle en fonction du nombre d'epochs."
      ]
    },
    {
      "cell_type": "code",
      "execution_count": null,
      "metadata": {
        "colab": {
          "base_uri": "https://localhost:8080/",
          "height": 312
        },
        "id": "atCBFCLkc7bj",
        "outputId": "13f2c99f-c49d-4df1-e2a4-a3ed53b8b513"
      },
      "outputs": [
        {
          "data": {
            "text/plain": [
              "<matplotlib.legend.Legend at 0x7ff5410a72b0>"
            ]
          },
          "execution_count": 32,
          "metadata": {
            "tags": []
          },
          "output_type": "execute_result"
        },
        {
          "data": {
            "image/png": "[encoded data removed]",
            "text/plain": [
              "<Figure size 432x288 with 1 Axes>"
            ]
          },
          "metadata": {
            "needs_background": "light",
            "tags": []
          },
          "output_type": "display_data"
        }
      ],
      "source": [
        "plt.plot(hist_best_model_MLP.history['loss'], label='training set',marker='o', linestyle='solid',linewidth=1, markersize=6)\n",
        "plt.plot(hist_best_model_MLP.history['val_loss'], label='validation set',marker='o', linestyle='solid',linewidth=1, markersize=6)\n",
        "plt.title(\"MLP-model loss\")\n",
        "plt.xlabel('Epochs')\n",
        "plt.ylabel('Total Loss')\n",
        "plt.legend(bbox_to_anchor=( 1.35, 1.))"
      ]
    },
    {
      "cell_type": "markdown",
      "metadata": {
        "id": "KEwhB02MY1iZ"
      },
      "source": [
        "On constate que les courbes de loss et d'accuracy des données de validations stagnent à partir de la 30ème époch.\n",
        "\n",
        "L'accuracy maximale obtenu sur les données de validation est : 0.7280 (epoch 47)"
      ]
    },
    {
      "cell_type": "markdown",
      "metadata": {
        "id": "UEkXNx-CC30K"
      },
      "source": [
        "### Réseau de convolution (CNN)"
      ]
    },
    {
      "cell_type": "code",
      "execution_count": null,
      "metadata": {
        "id": "is-H6MeELYd_"
      },
      "outputs": [],
      "source": [
        "clear_session()"
      ]
    },
    {
      "cell_type": "markdown",
      "metadata": {
        "id": "OT2g_ktownoi"
      },
      "source": [
        "#### Entrainement"
      ]
    },
    {
      "cell_type": "markdown",
      "metadata": {
        "id": "sWwbPom5M3Qg"
      },
      "source": [
        "On commence par afficher les hyperparamètres optimaux."
      ]
    },
    {
      "cell_type": "code",
      "execution_count": null,
      "metadata": {
        "colab": {
          "base_uri": "https://localhost:8080/"
        },
        "id": "ijCQDAMgM28-",
        "outputId": "3c8ec0a7-559b-49fb-a419-164b2e564903"
      },
      "outputs": [
        {
          "name": "stdout",
          "output_type": "stream",
          "text": [
            "{'input_conv_filters': 64, 'n_layers': 1, 'conv_1_filters': 32, 'conv_dropout_rate': 0.7, 'n_FC_layers': 1, 'FC_layer_1_units': 128, 'FC_layer_1_dropout_rate': 0.5, 'conv_2_filters': 32, 'FC_layer_2_units': 64, 'FC_layer_2_dropout_rate': 0.5}\n"
          ]
        }
      ],
      "source": [
        "print(best_hps_CNN.values)"
      ]
    },
    {
      "cell_type": "markdown",
      "metadata": {
        "id": "sIpF7R1RkABA"
      },
      "source": [
        "On construit ensuite le modèle optimal."
      ]
    },
    {
      "cell_type": "code",
      "execution_count": null,
      "metadata": {
        "id": "YyYwrbq5nKCy"
      },
      "outputs": [],
      "source": [
        "best_model_CNN = tuner_CNN.hypermodel.build(best_hps_CNN)"
      ]
    },
    {
      "cell_type": "markdown",
      "metadata": {
        "id": "tBBk0NY6nKqJ"
      },
      "source": [
        "On affiche un résumé de ce modèle."
      ]
    },
    {
      "cell_type": "code",
      "execution_count": null,
      "metadata": {
        "colab": {
          "base_uri": "https://localhost:8080/"
        },
        "id": "eBuCng0ZnY80",
        "outputId": "fc7fe29a-d367-4bb2-f312-ca89d8ce753c"
      },
      "outputs": [
        {
          "name": "stdout",
          "output_type": "stream",
          "text": [
            "Model: \"sequential\"\n",
            "_________________________________________________________________\n",
            "Layer (type)                 Output Shape              Param #   \n",
            "=================================================================\n",
            "conv2d (Conv2D)              (None, 28, 28, 64)        128       \n",
            "_________________________________________________________________\n",
            "re_lu (ReLU)                 (None, 28, 28, 64)        0         \n",
            "_________________________________________________________________\n",
            "conv2d_1 (Conv2D)            (None, 28, 28, 32)        2080      \n",
            "_________________________________________________________________\n",
            "re_lu_1 (ReLU)               (None, 28, 28, 32)        0         \n",
            "_________________________________________________________________\n",
            "max_pooling2d (MaxPooling2D) (None, 14, 14, 32)        0         \n",
            "_________________________________________________________________\n",
            "dropout (Dropout)            (None, 14, 14, 32)        0         \n",
            "_________________________________________________________________\n",
            "flatten (Flatten)            (None, 6272)              0         \n",
            "_________________________________________________________________\n",
            "dense (Dense)                (None, 128)               802944    \n",
            "_________________________________________________________________\n",
            "batch_normalization (BatchNo (None, 128)               512       \n",
            "_________________________________________________________________\n",
            "re_lu_2 (ReLU)               (None, 128)               0         \n",
            "_________________________________________________________________\n",
            "dropout_1 (Dropout)          (None, 128)               0         \n",
            "_________________________________________________________________\n",
            "dense_1 (Dense)              (None, 10)                1290      \n",
            "=================================================================\n",
            "Total params: 806,954\n",
            "Trainable params: 806,698\n",
            "Non-trainable params: 256\n",
            "_________________________________________________________________\n"
          ]
        }
      ],
      "source": [
        "best_model_CNN.summary()"
      ]
    },
    {
      "cell_type": "markdown",
      "metadata": {
        "id": "I0fJNXl4nZUp"
      },
      "source": [
        "On entraine le modèle optimal sur 100 epochs avec une taille de batch égale à 32. <br>\n",
        "On veille également à ajouter un Early Stopping afin d'améliorer les performances de notre modèle."
      ]
    },
    {
      "cell_type": "code",
      "execution_count": null,
      "metadata": {
        "colab": {
          "base_uri": "https://localhost:8080/"
        },
        "id": "Y6i3SI0Yvurf",
        "outputId": "9ec4acb2-e1b0-4a61-bb16-3ed756dc82b4"
      },
      "outputs": [
        {
          "name": "stdout",
          "output_type": "stream",
          "text": [
            "Epoch 1/100\n",
            "7/7 [==============================] - 4s 498ms/step - loss: 2.9941 - accuracy: 0.0803 - val_loss: 2.2454 - val_accuracy: 0.2415\n",
            "Epoch 2/100\n",
            "7/7 [==============================] - 3s 487ms/step - loss: 2.1069 - accuracy: 0.3267 - val_loss: 2.1846 - val_accuracy: 0.4381\n",
            "Epoch 3/100\n",
            "7/7 [==============================] - 3s 471ms/step - loss: 1.8383 - accuracy: 0.3959 - val_loss: 2.1242 - val_accuracy: 0.4757\n",
            "Epoch 4/100\n",
            "7/7 [==============================] - 3s 474ms/step - loss: 1.4866 - accuracy: 0.5413 - val_loss: 2.0689 - val_accuracy: 0.4756\n",
            "Epoch 5/100\n",
            "7/7 [==============================] - 3s 474ms/step - loss: 1.2837 - accuracy: 0.5661 - val_loss: 2.0165 - val_accuracy: 0.4746\n",
            "Epoch 6/100\n",
            "7/7 [==============================] - 3s 481ms/step - loss: 0.9942 - accuracy: 0.6693 - val_loss: 1.9731 - val_accuracy: 0.4869\n",
            "Epoch 7/100\n",
            "7/7 [==============================] - 3s 466ms/step - loss: 1.0448 - accuracy: 0.6429 - val_loss: 1.9351 - val_accuracy: 0.4917\n",
            "Epoch 8/100\n",
            "7/7 [==============================] - 3s 469ms/step - loss: 0.7089 - accuracy: 0.8172 - val_loss: 1.8961 - val_accuracy: 0.5072\n",
            "Epoch 9/100\n",
            "7/7 [==============================] - 3s 472ms/step - loss: 0.9237 - accuracy: 0.6814 - val_loss: 1.8552 - val_accuracy: 0.5282\n",
            "Epoch 10/100\n",
            "7/7 [==============================] - 3s 461ms/step - loss: 0.6746 - accuracy: 0.7861 - val_loss: 1.8131 - val_accuracy: 0.5358\n",
            "Epoch 11/100\n",
            "7/7 [==============================] - 3s 467ms/step - loss: 0.7281 - accuracy: 0.7844 - val_loss: 1.7694 - val_accuracy: 0.5642\n",
            "Epoch 12/100\n",
            "7/7 [==============================] - 3s 483ms/step - loss: 0.6860 - accuracy: 0.7765 - val_loss: 1.7258 - val_accuracy: 0.5788\n",
            "Epoch 13/100\n",
            "7/7 [==============================] - 3s 473ms/step - loss: 0.5347 - accuracy: 0.8796 - val_loss: 1.6841 - val_accuracy: 0.5902\n",
            "Epoch 14/100\n",
            "7/7 [==============================] - 3s 466ms/step - loss: 0.5953 - accuracy: 0.8172 - val_loss: 1.6395 - val_accuracy: 0.6060\n",
            "Epoch 15/100\n",
            "7/7 [==============================] - 3s 470ms/step - loss: 0.5271 - accuracy: 0.8843 - val_loss: 1.5928 - val_accuracy: 0.6296\n",
            "Epoch 16/100\n",
            "7/7 [==============================] - 3s 468ms/step - loss: 0.5494 - accuracy: 0.8352 - val_loss: 1.5520 - val_accuracy: 0.6458\n",
            "Epoch 17/100\n",
            "7/7 [==============================] - 3s 476ms/step - loss: 0.4904 - accuracy: 0.9261 - val_loss: 1.5149 - val_accuracy: 0.6573\n",
            "Epoch 18/100\n",
            "7/7 [==============================] - 3s 474ms/step - loss: 0.5722 - accuracy: 0.8209 - val_loss: 1.4747 - val_accuracy: 0.6734\n",
            "Epoch 19/100\n",
            "7/7 [==============================] - 3s 464ms/step - loss: 0.4397 - accuracy: 0.8979 - val_loss: 1.4346 - val_accuracy: 0.6789\n",
            "Epoch 20/100\n",
            "7/7 [==============================] - 3s 481ms/step - loss: 0.4460 - accuracy: 0.9119 - val_loss: 1.3972 - val_accuracy: 0.6822\n",
            "Epoch 21/100\n",
            "7/7 [==============================] - 3s 482ms/step - loss: 0.3814 - accuracy: 0.9206 - val_loss: 1.3580 - val_accuracy: 0.6855\n",
            "Epoch 22/100\n",
            "7/7 [==============================] - 3s 468ms/step - loss: 0.3755 - accuracy: 0.9023 - val_loss: 1.3259 - val_accuracy: 0.6872\n",
            "Epoch 23/100\n",
            "7/7 [==============================] - 3s 480ms/step - loss: 0.3696 - accuracy: 0.9171 - val_loss: 1.2981 - val_accuracy: 0.6880\n",
            "Epoch 24/100\n",
            "7/7 [==============================] - 3s 471ms/step - loss: 0.3578 - accuracy: 0.9296 - val_loss: 1.2701 - val_accuracy: 0.6896\n",
            "Epoch 25/100\n",
            "7/7 [==============================] - 3s 476ms/step - loss: 0.3185 - accuracy: 0.9317 - val_loss: 1.2354 - val_accuracy: 0.6930\n",
            "Epoch 26/100\n",
            "7/7 [==============================] - 3s 521ms/step - loss: 0.3339 - accuracy: 0.9285 - val_loss: 1.1929 - val_accuracy: 0.7009\n",
            "Epoch 27/100\n",
            "7/7 [==============================] - 3s 527ms/step - loss: 0.2806 - accuracy: 0.9527 - val_loss: 1.1550 - val_accuracy: 0.7059\n",
            "Epoch 28/100\n",
            "7/7 [==============================] - 3s 518ms/step - loss: 0.3284 - accuracy: 0.9360 - val_loss: 1.1241 - val_accuracy: 0.7067\n",
            "Epoch 29/100\n",
            "7/7 [==============================] - 3s 474ms/step - loss: 0.2984 - accuracy: 0.9591 - val_loss: 1.0974 - val_accuracy: 0.7108\n",
            "Epoch 30/100\n",
            "7/7 [==============================] - 3s 457ms/step - loss: 0.2968 - accuracy: 0.9337 - val_loss: 1.0754 - val_accuracy: 0.7132\n",
            "Epoch 31/100\n",
            "7/7 [==============================] - 3s 484ms/step - loss: 0.2772 - accuracy: 0.9496 - val_loss: 1.0522 - val_accuracy: 0.7147\n",
            "Epoch 32/100\n",
            "7/7 [==============================] - 3s 473ms/step - loss: 0.2855 - accuracy: 0.9280 - val_loss: 1.0285 - val_accuracy: 0.7162\n",
            "Epoch 33/100\n",
            "7/7 [==============================] - 3s 481ms/step - loss: 0.3251 - accuracy: 0.9359 - val_loss: 1.0054 - val_accuracy: 0.7204\n",
            "Epoch 34/100\n",
            "7/7 [==============================] - 3s 473ms/step - loss: 0.2891 - accuracy: 0.9632 - val_loss: 0.9852 - val_accuracy: 0.7216\n",
            "Epoch 35/100\n",
            "7/7 [==============================] - 3s 478ms/step - loss: 0.3758 - accuracy: 0.8853 - val_loss: 0.9775 - val_accuracy: 0.7206\n",
            "Epoch 36/100\n",
            "7/7 [==============================] - 3s 488ms/step - loss: 0.2942 - accuracy: 0.9403 - val_loss: 0.9719 - val_accuracy: 0.7200\n",
            "Epoch 37/100\n",
            "7/7 [==============================] - 3s 477ms/step - loss: 0.3163 - accuracy: 0.9080 - val_loss: 0.9560 - val_accuracy: 0.7193\n",
            "Epoch 38/100\n",
            "7/7 [==============================] - 3s 490ms/step - loss: 0.3478 - accuracy: 0.9212 - val_loss: 0.9424 - val_accuracy: 0.7179\n",
            "Epoch 39/100\n",
            "7/7 [==============================] - 3s 475ms/step - loss: 0.2671 - accuracy: 0.9496 - val_loss: 0.9203 - val_accuracy: 0.7195\n",
            "Epoch 40/100\n",
            "7/7 [==============================] - 3s 476ms/step - loss: 0.2379 - accuracy: 0.9570 - val_loss: 0.8998 - val_accuracy: 0.7217\n",
            "Epoch 41/100\n",
            "7/7 [==============================] - 3s 473ms/step - loss: 0.3588 - accuracy: 0.8940 - val_loss: 0.8786 - val_accuracy: 0.7243\n",
            "Epoch 42/100\n",
            "7/7 [==============================] - 3s 481ms/step - loss: 0.2613 - accuracy: 0.9403 - val_loss: 0.8588 - val_accuracy: 0.7292\n",
            "Epoch 43/100\n",
            "7/7 [==============================] - 3s 475ms/step - loss: 0.2143 - accuracy: 0.9709 - val_loss: 0.8501 - val_accuracy: 0.7307\n",
            "Epoch 44/100\n",
            "7/7 [==============================] - 3s 480ms/step - loss: 0.2483 - accuracy: 0.9484 - val_loss: 0.8410 - val_accuracy: 0.7288\n",
            "Epoch 45/100\n",
            "7/7 [==============================] - 3s 471ms/step - loss: 0.1936 - accuracy: 0.9825 - val_loss: 0.8308 - val_accuracy: 0.7304\n",
            "Epoch 46/100\n",
            "7/7 [==============================] - 3s 474ms/step - loss: 0.2896 - accuracy: 0.9113 - val_loss: 0.8300 - val_accuracy: 0.7298\n",
            "Epoch 47/100\n",
            "7/7 [==============================] - 3s 496ms/step - loss: 0.2517 - accuracy: 0.9275 - val_loss: 0.8299 - val_accuracy: 0.7287\n",
            "Epoch 48/100\n",
            "7/7 [==============================] - 3s 476ms/step - loss: 0.2185 - accuracy: 0.9634 - val_loss: 0.8274 - val_accuracy: 0.7267\n",
            "Epoch 49/100\n",
            "7/7 [==============================] - 3s 473ms/step - loss: 0.1757 - accuracy: 0.9693 - val_loss: 0.8242 - val_accuracy: 0.7254\n",
            "Epoch 50/100\n",
            "7/7 [==============================] - 3s 466ms/step - loss: 0.2623 - accuracy: 0.9594 - val_loss: 0.8259 - val_accuracy: 0.7258\n",
            "Epoch 51/100\n",
            "7/7 [==============================] - 3s 460ms/step - loss: 0.4139 - accuracy: 0.8543 - val_loss: 0.8280 - val_accuracy: 0.7235\n",
            "Epoch 52/100\n",
            "7/7 [==============================] - 3s 486ms/step - loss: 0.1953 - accuracy: 0.9549 - val_loss: 0.8239 - val_accuracy: 0.7228\n",
            "Epoch 53/100\n",
            "7/7 [==============================] - 3s 482ms/step - loss: 0.2033 - accuracy: 0.9574 - val_loss: 0.8214 - val_accuracy: 0.7226\n",
            "Epoch 54/100\n",
            "7/7 [==============================] - 3s 484ms/step - loss: 0.1462 - accuracy: 0.9908 - val_loss: 0.8128 - val_accuracy: 0.7248\n",
            "Epoch 55/100\n",
            "7/7 [==============================] - 3s 480ms/step - loss: 0.1718 - accuracy: 0.9801 - val_loss: 0.8093 - val_accuracy: 0.7246\n",
            "Epoch 56/100\n",
            "7/7 [==============================] - 3s 482ms/step - loss: 0.1685 - accuracy: 0.9774 - val_loss: 0.7985 - val_accuracy: 0.7308\n",
            "Epoch 57/100\n",
            "7/7 [==============================] - 3s 485ms/step - loss: 0.1557 - accuracy: 0.9699 - val_loss: 0.7952 - val_accuracy: 0.7313\n",
            "Epoch 58/100\n",
            "7/7 [==============================] - 3s 478ms/step - loss: 0.1722 - accuracy: 0.9847 - val_loss: 0.7907 - val_accuracy: 0.7303\n",
            "Epoch 59/100\n",
            "7/7 [==============================] - 3s 479ms/step - loss: 0.2362 - accuracy: 0.9535 - val_loss: 0.7891 - val_accuracy: 0.7315\n",
            "Epoch 60/100\n",
            "7/7 [==============================] - 3s 480ms/step - loss: 0.1718 - accuracy: 0.9927 - val_loss: 0.7908 - val_accuracy: 0.7315\n",
            "Epoch 61/100\n",
            "7/7 [==============================] - 3s 480ms/step - loss: 0.2284 - accuracy: 0.9257 - val_loss: 0.7890 - val_accuracy: 0.7326\n",
            "Epoch 62/100\n",
            "7/7 [==============================] - 3s 481ms/step - loss: 0.1922 - accuracy: 0.9665 - val_loss: 0.7858 - val_accuracy: 0.7351\n",
            "Epoch 63/100\n",
            "7/7 [==============================] - 3s 492ms/step - loss: 0.1613 - accuracy: 0.9582 - val_loss: 0.7780 - val_accuracy: 0.7379\n",
            "Epoch 64/100\n",
            "7/7 [==============================] - 3s 522ms/step - loss: 0.1833 - accuracy: 0.9291 - val_loss: 0.7795 - val_accuracy: 0.7380\n",
            "Epoch 65/100\n",
            "7/7 [==============================] - 3s 506ms/step - loss: 0.1549 - accuracy: 0.9837 - val_loss: 0.7848 - val_accuracy: 0.7380\n",
            "Epoch 66/100\n",
            "7/7 [==============================] - 3s 527ms/step - loss: 0.1408 - accuracy: 0.9736 - val_loss: 0.7959 - val_accuracy: 0.7334\n",
            "Epoch 67/100\n",
            "7/7 [==============================] - 3s 514ms/step - loss: 0.1836 - accuracy: 0.9586 - val_loss: 0.8062 - val_accuracy: 0.7300\n",
            "Epoch 68/100\n",
            "7/7 [==============================] - 3s 483ms/step - loss: 0.1296 - accuracy: 0.9908 - val_loss: 0.8197 - val_accuracy: 0.7259\n",
            "Epoch 69/100\n",
            "7/7 [==============================] - 3s 507ms/step - loss: 0.1493 - accuracy: 0.9793 - val_loss: 0.8236 - val_accuracy: 0.7255\n",
            "Epoch 70/100\n",
            "7/7 [==============================] - 3s 522ms/step - loss: 0.1185 - accuracy: 0.9864 - val_loss: 0.8257 - val_accuracy: 0.7262\n",
            "Epoch 71/100\n",
            "7/7 [==============================] - 3s 514ms/step - loss: 0.1549 - accuracy: 0.9835 - val_loss: 0.8297 - val_accuracy: 0.7260\n",
            "Epoch 72/100\n",
            "7/7 [==============================] - 3s 528ms/step - loss: 0.1092 - accuracy: 0.9723 - val_loss: 0.8259 - val_accuracy: 0.7256\n",
            "Epoch 73/100\n",
            "7/7 [==============================] - 3s 501ms/step - loss: 0.0902 - accuracy: 0.9962 - val_loss: 0.8301 - val_accuracy: 0.7244\n",
            "Epoch 00073: early stopping\n"
          ]
        }
      ],
      "source": [
        "es = EarlyStopping(monitor='val_loss', mode='min', verbose=1, patience = 10)\n",
        "hist_best_model_CNN = best_model_CNN.fit(x_labeled.reshape(len(x_labeled),28,28,1), y_labeled,\n",
        "                                         epochs = 100,\n",
        "                                         batch_size = 16,\n",
        "                                         validation_data = (x_val.reshape(len(x_val),28,28,1), y_val),\n",
        "                                         shuffle = True, callbacks = [es])"
      ]
    },
    {
      "cell_type": "markdown",
      "metadata": {
        "id": "uHFkpGV_j_W2"
      },
      "source": [
        "On sauvegarde le modèle optimal après entrainement pour pouvoir le réutiliser directement."
      ]
    },
    {
      "cell_type": "code",
      "execution_count": null,
      "metadata": {
        "colab": {
          "base_uri": "https://localhost:8080/"
        },
        "id": "u97ZkmhRvuaL",
        "outputId": "6036f812-6ba4-4a12-c9a5-5fd5476f9d99"
      },
      "outputs": [
        {
          "name": "stdout",
          "output_type": "stream",
          "text": [
            "INFO:tensorflow:Assets written to: /content/drive/My Drive/MNIST_baseline/optimal_model_CNN/assets\n"
          ]
        }
      ],
      "source": [
        "model_save_name = 'optimal_model_CNN'\n",
        "path = F\"/content/drive/My Drive/MNIST_baseline/{model_save_name}\" \n",
        "best_model_CNN.save(path)"
      ]
    },
    {
      "cell_type": "markdown",
      "metadata": {
        "id": "Je_DrZ41wpgj"
      },
      "source": [
        "#### Résultats"
      ]
    },
    {
      "cell_type": "markdown",
      "metadata": {
        "id": "l2GIZopaj1yV"
      },
      "source": [
        "On affiche les résultats obtenus. Ici, on affiche l'accuracy du modèle en fonction du nombre d'epochs.\n",
        "\n"
      ]
    },
    {
      "cell_type": "code",
      "execution_count": null,
      "metadata": {
        "colab": {
          "base_uri": "https://localhost:8080/",
          "height": 312
        },
        "id": "j-cwaYXn38sf",
        "outputId": "93efee7b-f2b7-42c8-92f0-7b99a8ce194c"
      },
      "outputs": [
        {
          "data": {
            "text/plain": [
              "<matplotlib.legend.Legend at 0x7ff540dde048>"
            ]
          },
          "execution_count": 39,
          "metadata": {
            "tags": []
          },
          "output_type": "execute_result"
        },
        {
          "data": {
            "image/png": "[encoded data removed]",
            "text/plain": [
              "<Figure size 432x288 with 1 Axes>"
            ]
          },
          "metadata": {
            "needs_background": "light",
            "tags": []
          },
          "output_type": "display_data"
        }
      ],
      "source": [
        "plt.plot(hist_best_model_CNN.history['accuracy'], label='training set',marker='o', linestyle='solid',linewidth=1, markersize=6)\n",
        "plt.plot(hist_best_model_CNN.history['val_accuracy'], label='validation set',marker='o', linestyle='solid',linewidth=1, markersize=6)\n",
        "plt.title(\"CNN-model accuracy\")\n",
        "plt.xlabel('Epochs')\n",
        "plt.ylabel('Acuracy')\n",
        "plt.legend(bbox_to_anchor=( 1., 1.))"
      ]
    },
    {
      "cell_type": "markdown",
      "metadata": {
        "id": "dwhky5T2j0Yn"
      },
      "source": [
        "Ici, on affiche la loss du modèle en fonction du nombre d'epochs."
      ]
    },
    {
      "cell_type": "code",
      "execution_count": null,
      "metadata": {
        "colab": {
          "base_uri": "https://localhost:8080/",
          "height": 312
        },
        "id": "qUwAD6tS38d8",
        "outputId": "619f37b0-38a1-479b-bda8-b51c409cbc20"
      },
      "outputs": [
        {
          "data": {
            "text/plain": [
              "<matplotlib.legend.Legend at 0x7ff540cf5a20>"
            ]
          },
          "execution_count": 40,
          "metadata": {
            "tags": []
          },
          "output_type": "execute_result"
        },
        {
          "data": {
            "image/png": "[encoded data removed]",
            "text/plain": [
              "<Figure size 432x288 with 1 Axes>"
            ]
          },
          "metadata": {
            "needs_background": "light",
            "tags": []
          },
          "output_type": "display_data"
        }
      ],
      "source": [
        "plt.plot(hist_best_model_CNN.history['loss'], label='training set',marker='o', linestyle='solid',linewidth=1, markersize=6)\n",
        "plt.plot(hist_best_model_CNN.history['val_loss'], label='validation set',marker='o', linestyle='solid',linewidth=1, markersize=6)\n",
        "plt.title(\"CNN-model loss\")\n",
        "plt.xlabel('Epochs')\n",
        "plt.ylabel('Total Loss')\n",
        "plt.legend(bbox_to_anchor=( 1.35, 1.))"
      ]
    },
    {
      "cell_type": "markdown",
      "metadata": {
        "id": "pglCjbLnaB0v"
      },
      "source": [
        "L'accuracy maximale obtenu sur les données de validation est : 0.7380 (epoch 64-65)"
      ]
    },
    {
      "cell_type": "markdown",
      "metadata": {
        "id": "OPsscW3LaUNz"
      },
      "source": [
        "### Bilan"
      ]
    },
    {
      "cell_type": "markdown",
      "metadata": {
        "id": "2I9vDnwHaXuo"
      },
      "source": [
        "On constate que les modèles MLP et CNN n'ont que 1% d'écart concernant l'accuracy maximale.\n",
        "On peut donc utiliser ces valeurs de référence pour savoir si notre méthode semi-supervisée est efficace."
      ]
    },
    {
      "cell_type": "markdown",
      "metadata": {
        "id": "n2NnxBLcPRcl"
      },
      "source": [
        "# Réseaux de neurones semi-supervisés"
      ]
    },
    {
      "cell_type": "markdown",
      "metadata": {
        "id": "lHLlW5rpFrI-"
      },
      "source": [
        "## Paramètres des modèles"
      ]
    },
    {
      "cell_type": "markdown",
      "metadata": {
        "id": "iSlauCw-HaWz"
      },
      "source": [
        "On choisit 50 epochs pour les modèles semi-supervisés. Le temps de calcul étant très long, il a fallu faire des compromis.\n",
        "Concernant les variables `train_acc_history`, `val_acc_history`,`train_loss_history` et `val_loss_history`, ces dernières nous serviront pour tracer les courbes de la loss et de l'accuracy en fonction du nombre d'epochs."
      ]
    },
    {
      "cell_type": "code",
      "execution_count": null,
      "metadata": {
        "id": "K2OzkJe7Oc-0"
      },
      "outputs": [],
      "source": [
        "EPOCHS = 50\n",
        "BATCH_SIZE_Sup = 16 # -> 7 batch pour 1 epoch\n",
        "BATCH_SIZE_Unsup = 8192\n",
        "#BUFFER_SIZE = 60000\n",
        "#DISPLAY_STEP = 20\n",
        "train_acc_history=np.zeros(EPOCHS)\n",
        "val_acc_history=np.zeros(EPOCHS)\n",
        "train_loss_history=np.zeros(EPOCHS)\n",
        "val_loss_history=np.zeros(EPOCHS)"
      ]
    },
    {
      "cell_type": "markdown",
      "metadata": {
        "id": "2hJ7qfy7IAC_"
      },
      "source": [
        "Définition de la fonction de perte du modèle.\n",
        "<br>\n",
        "Celle-ci prend en compte une perte sur la partie supervisée ainsi qu'une perte sur la partie non-supervisée comme décrit dans l'article Xie20.\n",
        "\n"
      ]
    },
    {
      "cell_type": "code",
      "execution_count": null,
      "metadata": {
        "id": "PStrH5jH5qRP"
      },
      "outputs": [],
      "source": [
        "def model_loss(y_true_sup,y_pred_sup,y_pred_X,y_pred_X_chapeau,lamb=1):\n",
        "  sup_loss=tf.keras.losses.categorical_crossentropy(y_true_sup, y_pred_sup, from_logits=False, label_smoothing=0)\n",
        "  unsup_loss=tf.math.reduce_mean(tf.keras.losses.categorical_crossentropy(y_pred_X,y_pred_X_chapeau, from_logits=False, label_smoothing=0))\n",
        "  total_loss = sup_loss + lamb * unsup_loss\n",
        "  return total_loss"
      ]
    },
    {
      "cell_type": "markdown",
      "metadata": {
        "id": "eIbeYPpCFl8j"
      },
      "source": [
        "## Data Augmentation"
      ]
    },
    {
      "cell_type": "markdown",
      "metadata": {
        "id": "FcEMnrOuI4n3"
      },
      "source": [
        "Notre data augmentation se base sur l'objet `tf.keras.preprocessing.image.ImageDataGenerator`qui nous permet d'appliquer aléatoirement des transformations prédéfinies.\n",
        "<br>\n",
        "Ici, les transformations possibles sont: des zooms, des rotations, des élargissements et des perspectives. <br>\n",
        "On n'applique pas d'inversions verticales ou horizontales car dans notre cas pour certains nombres on obtiendrait une représentation totalement faussée. Par exemple : Un 6 deviendrait un 9 après un vertical_flip.\n",
        "<br>\n",
        "De plus, on rajoute une fonction qui une fois sur deux applique un léger bruit gaussien sur les données."
      ]
    },
    {
      "cell_type": "code",
      "execution_count": null,
      "metadata": {
        "id": "owBqPe6qcDtu"
      },
      "outputs": [],
      "source": [
        "def add_noise(img):\n",
        "    img2=np.copy(img)\n",
        "    '''Add random noise to an image'''\n",
        "    #VARIABILITY = 1./255\n",
        "    #deviation = VARIABILITY*random.random()\n",
        "    noise = np.random.normal(0, (40/255)**2, img2.shape)\n",
        "    img2 += noise\n",
        "    np.clip(img2, 0., 255.)\n",
        "    return img2\n",
        "\n",
        "img_gen = tf.keras.preprocessing.image.ImageDataGenerator(\n",
        "    rescale=1./255,horizontal_flip=False,vertical_flip=False,rotation_range=30,zoom_range=0.1,width_shift_range=0.05,\n",
        "        height_shift_range=0.05,shear_range=7\n",
        ")\n",
        "\n",
        "def DataAugmentation(img):\n",
        "  img2=img_gen.apply_transform(np.reshape(img,[28,28,1]),img_gen.get_random_transform((28,28,1)))\n",
        "  img2=np.reshape(img2,(28,28))\n",
        "  if(np.random.uniform()>=0.5):\n",
        "    img2=add_noise(img2)\n",
        "  return(img2)"
      ]
    },
    {
      "cell_type": "markdown",
      "metadata": {
        "id": "PxglAbbOFirA"
      },
      "source": [
        "Exemple d'image avant Data Augmentation."
      ]
    },
    {
      "cell_type": "code",
      "execution_count": null,
      "metadata": {
        "colab": {
          "base_uri": "https://localhost:8080/",
          "height": 282
        },
        "id": "Kgm_A05RFjt0",
        "outputId": "296026c7-4954-4901-d9f2-dd2f6c9805d5"
      },
      "outputs": [
        {
          "data": {
            "text/plain": [
              "<matplotlib.image.AxesImage at 0x7ff53df10470>"
            ]
          },
          "execution_count": 74,
          "metadata": {
            "tags": []
          },
          "output_type": "execute_result"
        },
        {
          "data": {
            "image/png": "[encoded data removed]",
            "text/plain": [
              "<Figure size 432x288 with 1 Axes>"
            ]
          },
          "metadata": {
            "needs_background": "light",
            "tags": []
          },
          "output_type": "display_data"
        }
      ],
      "source": [
        "plt.imshow((x_val[2]),cmap='gray')"
      ]
    },
    {
      "cell_type": "markdown",
      "metadata": {
        "id": "lQ48OpC_Fc0T"
      },
      "source": [
        "Exemple d'image après Data Augmentation."
      ]
    },
    {
      "cell_type": "code",
      "execution_count": null,
      "metadata": {
        "colab": {
          "base_uri": "https://localhost:8080/",
          "height": 282
        },
        "id": "rlSAALGfFjt0",
        "outputId": "feb735ab-d917-4e61-c45c-efac5279e89f"
      },
      "outputs": [
        {
          "data": {
            "text/plain": [
              "<matplotlib.image.AxesImage at 0x7ff53dd62e80>"
            ]
          },
          "execution_count": 79,
          "metadata": {
            "tags": []
          },
          "output_type": "execute_result"
        },
        {
          "data": {
            "image/png": "[encoded data removed]",
            "text/plain": [
              "<Figure size 432x288 with 1 Axes>"
            ]
          },
          "metadata": {
            "needs_background": "light",
            "tags": []
          },
          "output_type": "display_data"
        }
      ],
      "source": [
        "plt.imshow(DataAugmentation(x_val[2]),cmap='gray')"
      ]
    },
    {
      "cell_type": "markdown",
      "metadata": {
        "id": "jIk3Aoa4QC31"
      },
      "source": [
        "## Perceptron multicouches (MLP)"
      ]
    },
    {
      "cell_type": "code",
      "execution_count": null,
      "metadata": {
        "id": "jtEVFfv2QMVX"
      },
      "outputs": [],
      "source": [
        "clear_session()"
      ]
    },
    {
      "cell_type": "markdown",
      "metadata": {
        "id": "wi6QaohAVKet"
      },
      "source": [
        "On utilisera le modèle optimal déterminé précédemment."
      ]
    },
    {
      "cell_type": "code",
      "execution_count": null,
      "metadata": {
        "id": "MRF8pc5PQVzW"
      },
      "outputs": [],
      "source": [
        "best_model_MLP = tuner.hypermodel.build(best_hps_MLP)"
      ]
    },
    {
      "cell_type": "markdown",
      "metadata": {
        "id": "jtejA0uoQVzX"
      },
      "source": [
        "On affiche un résumé de ce modèle."
      ]
    },
    {
      "cell_type": "code",
      "execution_count": null,
      "metadata": {
        "colab": {
          "base_uri": "https://localhost:8080/"
        },
        "id": "jCFptldpQVzX",
        "outputId": "e820526d-cc5c-4e21-ef3c-573b0a711363"
      },
      "outputs": [
        {
          "name": "stdout",
          "output_type": "stream",
          "text": [
            "Model: \"sequential\"\n",
            "_________________________________________________________________\n",
            "Layer (type)                 Output Shape              Param #   \n",
            "=================================================================\n",
            "flatten (Flatten)            (None, 784)               0         \n",
            "_________________________________________________________________\n",
            "dense (Dense)                (None, 128)               100480    \n",
            "_________________________________________________________________\n",
            "batch_normalization (BatchNo (None, 128)               512       \n",
            "_________________________________________________________________\n",
            "re_lu (ReLU)                 (None, 128)               0         \n",
            "_________________________________________________________________\n",
            "dropout (Dropout)            (None, 128)               0         \n",
            "_________________________________________________________________\n",
            "dense_1 (Dense)              (None, 256)               33024     \n",
            "_________________________________________________________________\n",
            "batch_normalization_1 (Batch (None, 256)               1024      \n",
            "_________________________________________________________________\n",
            "re_lu_1 (ReLU)               (None, 256)               0         \n",
            "_________________________________________________________________\n",
            "dropout_1 (Dropout)          (None, 256)               0         \n",
            "_________________________________________________________________\n",
            "dense_2 (Dense)              (None, 10)                2570      \n",
            "=================================================================\n",
            "Total params: 137,610\n",
            "Trainable params: 136,842\n",
            "Non-trainable params: 768\n",
            "_________________________________________________________________\n"
          ]
        }
      ],
      "source": [
        "best_model_MLP.summary()"
      ]
    },
    {
      "cell_type": "markdown",
      "metadata": {
        "id": "FKjsSW2KV8EV"
      },
      "source": [
        "Choix de l'optimiseur."
      ]
    },
    {
      "cell_type": "code",
      "execution_count": null,
      "metadata": {
        "id": "v-AhFtwbV5rd"
      },
      "outputs": [],
      "source": [
        "MLP_optimizer = tf.keras.optimizers.Adam(lr=0.8*1e-2)"
      ]
    },
    {
      "cell_type": "markdown",
      "metadata": {
        "id": "IaW1UnlFWFqH"
      },
      "source": [
        "Définition de la fonction permettant d'entrainer le modèle sur les données labélisées et non labélisées."
      ]
    },
    {
      "cell_type": "code",
      "execution_count": null,
      "metadata": {
        "id": "MHhusZIwHUvF"
      },
      "outputs": [],
      "source": [
        "# Notice the use of `tf.function`\n",
        "# This annotation causes the function to be \"compiled\".\n",
        "@tf.function\n",
        "def train_step_MLP(x,y_true,x_chapeau,y_pred_x_unsup,lamb=1):\n",
        "    #z = tf.random.normal([BATCH_SIZE, dim_z])\n",
        "\n",
        "    with tf.GradientTape() as grad_tape:\n",
        "      y_pred_sup = best_model_MLP(x, training=True)\n",
        "      #fake_output = discriminator(generated_images, training=True)\n",
        "      y_pred_x_chapeau = best_model_MLP(x_chapeau, training=False)\n",
        "\n",
        "      MLP_loss = model_loss(y_true, y_pred_sup,y_pred_x_unsup,y_pred_x_chapeau,lamb)\n",
        "\n",
        "      gradients_of_MLP = grad_tape.gradient(MLP_loss, best_model_MLP.trainable_variables)\n",
        "\n",
        "      MLP_optimizer.apply_gradients(zip(gradients_of_MLP, best_model_MLP.trainable_variables))"
      ]
    },
    {
      "cell_type": "markdown",
      "metadata": {
        "id": "4wdblVYRIo2W"
      },
      "source": [
        "#### Entrainement"
      ]
    },
    {
      "cell_type": "code",
      "execution_count": null,
      "metadata": {
        "colab": {
          "base_uri": "https://localhost:8080/"
        },
        "id": "_i9yypCHHUvR",
        "outputId": "23ab2fa2-16f5-4c1c-d1da-ce713726dfde"
      },
      "outputs": [
        {
          "name": "stderr",
          "output_type": "stream",
          "text": [
            "  2%|▏         | 1/50 [00:19<15:38, 19.15s/it]"
          ]
        },
        {
          "name": "stdout",
          "output_type": "stream",
          "text": [
            "train loss :  1.4733514785766602 train acc:  0.66\n",
            "val loss :  1.7785990238189697 val acc:  0.4729\n"
          ]
        },
        {
          "name": "stderr",
          "output_type": "stream",
          "text": [
            "\r",
            "  4%|▍         | 2/50 [00:36<14:58, 18.71s/it]"
          ]
        },
        {
          "name": "stdout",
          "output_type": "stream",
          "text": [
            "train loss :  0.9397721886634827 train acc:  0.84\n",
            "val loss :  1.414174199104309 val acc:  0.5889\n"
          ]
        },
        {
          "name": "stderr",
          "output_type": "stream",
          "text": [
            "\r",
            "  6%|▌         | 3/50 [00:54<14:24, 18.39s/it]"
          ]
        },
        {
          "name": "stdout",
          "output_type": "stream",
          "text": [
            "train loss :  0.6653974056243896 train acc:  0.85\n",
            "val loss :  1.239542007446289 val acc:  0.6174\n"
          ]
        },
        {
          "name": "stderr",
          "output_type": "stream",
          "text": [
            "\r",
            "  8%|▊         | 4/50 [01:12<13:56, 18.19s/it]"
          ]
        },
        {
          "name": "stdout",
          "output_type": "stream",
          "text": [
            "train loss :  0.4683857262134552 train acc:  0.92\n",
            "val loss :  1.1074442863464355 val acc:  0.6499\n"
          ]
        },
        {
          "name": "stderr",
          "output_type": "stream",
          "text": [
            "\r",
            " 10%|█         | 5/50 [01:29<13:31, 18.03s/it]"
          ]
        },
        {
          "name": "stdout",
          "output_type": "stream",
          "text": [
            "train loss :  0.34012722969055176 train acc:  0.95\n",
            "val loss :  0.9973939657211304 val acc:  0.6944\n"
          ]
        },
        {
          "name": "stderr",
          "output_type": "stream",
          "text": [
            "\r",
            " 12%|█▏        | 6/50 [01:47<13:06, 17.87s/it]"
          ]
        },
        {
          "name": "stdout",
          "output_type": "stream",
          "text": [
            "train loss :  0.2658334970474243 train acc:  0.94\n",
            "val loss :  0.931689441204071 val acc:  0.7129\n"
          ]
        },
        {
          "name": "stderr",
          "output_type": "stream",
          "text": [
            "\r",
            " 14%|█▍        | 7/50 [02:04<12:43, 17.75s/it]"
          ]
        },
        {
          "name": "stdout",
          "output_type": "stream",
          "text": [
            "train loss :  0.22577506303787231 train acc:  0.97\n",
            "val loss :  0.9182013869285583 val acc:  0.704\n"
          ]
        },
        {
          "name": "stderr",
          "output_type": "stream",
          "text": [
            "\r",
            " 16%|█▌        | 8/50 [02:22<12:23, 17.69s/it]"
          ]
        },
        {
          "name": "stdout",
          "output_type": "stream",
          "text": [
            "train loss :  0.1803203523159027 train acc:  0.96\n",
            "val loss :  0.879204273223877 val acc:  0.7066\n"
          ]
        },
        {
          "name": "stderr",
          "output_type": "stream",
          "text": [
            "\r",
            " 18%|█▊        | 9/50 [02:39<12:03, 17.65s/it]"
          ]
        },
        {
          "name": "stdout",
          "output_type": "stream",
          "text": [
            "train loss :  0.15414877235889435 train acc:  0.98\n",
            "val loss :  0.8847832083702087 val acc:  0.7068\n"
          ]
        },
        {
          "name": "stderr",
          "output_type": "stream",
          "text": [
            "\r",
            " 20%|██        | 10/50 [02:57<11:47, 17.69s/it]"
          ]
        },
        {
          "name": "stdout",
          "output_type": "stream",
          "text": [
            "train loss :  0.1274416148662567 train acc:  1.0\n",
            "val loss :  0.8942939639091492 val acc:  0.7102\n"
          ]
        },
        {
          "name": "stderr",
          "output_type": "stream",
          "text": [
            "\r",
            " 22%|██▏       | 11/50 [03:15<11:28, 17.66s/it]"
          ]
        },
        {
          "name": "stdout",
          "output_type": "stream",
          "text": [
            "train loss :  0.11810291558504105 train acc:  0.98\n",
            "val loss :  0.8679462671279907 val acc:  0.7197\n"
          ]
        },
        {
          "name": "stderr",
          "output_type": "stream",
          "text": [
            "\r",
            " 24%|██▍       | 12/50 [03:32<11:08, 17.60s/it]"
          ]
        },
        {
          "name": "stdout",
          "output_type": "stream",
          "text": [
            "train loss :  0.11456487327814102 train acc:  0.99\n",
            "val loss :  0.8565897345542908 val acc:  0.7292\n"
          ]
        },
        {
          "name": "stderr",
          "output_type": "stream",
          "text": [
            "\r",
            " 26%|██▌       | 13/50 [03:50<10:49, 17.56s/it]"
          ]
        },
        {
          "name": "stdout",
          "output_type": "stream",
          "text": [
            "train loss :  0.10634942352771759 train acc:  0.98\n",
            "val loss :  0.8450413942337036 val acc:  0.7381\n"
          ]
        },
        {
          "name": "stderr",
          "output_type": "stream",
          "text": [
            "\r",
            " 28%|██▊       | 14/50 [04:07<10:30, 17.52s/it]"
          ]
        },
        {
          "name": "stdout",
          "output_type": "stream",
          "text": [
            "train loss :  0.08190315216779709 train acc:  0.99\n",
            "val loss :  0.8279873728752136 val acc:  0.7446\n"
          ]
        },
        {
          "name": "stderr",
          "output_type": "stream",
          "text": [
            "\r",
            " 30%|███       | 15/50 [04:25<10:12, 17.51s/it]"
          ]
        },
        {
          "name": "stdout",
          "output_type": "stream",
          "text": [
            "train loss :  0.09933825582265854 train acc:  0.98\n",
            "val loss :  0.837378203868866 val acc:  0.7455\n"
          ]
        },
        {
          "name": "stderr",
          "output_type": "stream",
          "text": [
            "\r",
            " 32%|███▏      | 16/50 [04:42<09:55, 17.50s/it]"
          ]
        },
        {
          "name": "stdout",
          "output_type": "stream",
          "text": [
            "train loss :  0.13575802743434906 train acc:  0.95\n",
            "val loss :  0.8540054559707642 val acc:  0.7565\n"
          ]
        },
        {
          "name": "stderr",
          "output_type": "stream",
          "text": [
            "\r",
            " 34%|███▍      | 17/50 [05:00<09:37, 17.51s/it]"
          ]
        },
        {
          "name": "stdout",
          "output_type": "stream",
          "text": [
            "train loss :  0.14417506754398346 train acc:  0.98\n",
            "val loss :  0.8501114249229431 val acc:  0.7564\n"
          ]
        },
        {
          "name": "stderr",
          "output_type": "stream",
          "text": [
            "\r",
            " 36%|███▌      | 18/50 [05:17<09:21, 17.53s/it]"
          ]
        },
        {
          "name": "stdout",
          "output_type": "stream",
          "text": [
            "train loss :  0.1500430554151535 train acc:  0.97\n",
            "val loss :  0.8420314192771912 val acc:  0.753\n"
          ]
        },
        {
          "name": "stderr",
          "output_type": "stream",
          "text": [
            "\r",
            " 38%|███▊      | 19/50 [05:35<09:02, 17.50s/it]"
          ]
        },
        {
          "name": "stdout",
          "output_type": "stream",
          "text": [
            "train loss :  0.14354544878005981 train acc:  0.97\n",
            "val loss :  0.8451436758041382 val acc:  0.7512\n"
          ]
        },
        {
          "name": "stderr",
          "output_type": "stream",
          "text": [
            "\r",
            " 40%|████      | 20/50 [05:52<08:44, 17.48s/it]"
          ]
        },
        {
          "name": "stdout",
          "output_type": "stream",
          "text": [
            "train loss :  0.10308994352817535 train acc:  0.98\n",
            "val loss :  0.8167775273323059 val acc:  0.7482\n"
          ]
        },
        {
          "name": "stderr",
          "output_type": "stream",
          "text": [
            "\r",
            " 42%|████▏     | 21/50 [06:10<08:26, 17.47s/it]"
          ]
        },
        {
          "name": "stdout",
          "output_type": "stream",
          "text": [
            "train loss :  0.08890751004219055 train acc:  0.98\n",
            "val loss :  0.7762243747711182 val acc:  0.757\n"
          ]
        },
        {
          "name": "stderr",
          "output_type": "stream",
          "text": [
            "\r",
            " 44%|████▍     | 22/50 [06:27<08:09, 17.50s/it]"
          ]
        },
        {
          "name": "stdout",
          "output_type": "stream",
          "text": [
            "train loss :  0.07951147854328156 train acc:  0.98\n",
            "val loss :  0.7610383629798889 val acc:  0.7648\n"
          ]
        },
        {
          "name": "stderr",
          "output_type": "stream",
          "text": [
            "\r",
            " 46%|████▌     | 23/50 [06:45<07:52, 17.51s/it]"
          ]
        },
        {
          "name": "stdout",
          "output_type": "stream",
          "text": [
            "train loss :  0.07109956443309784 train acc:  0.98\n",
            "val loss :  0.727156937122345 val acc:  0.7682\n"
          ]
        },
        {
          "name": "stderr",
          "output_type": "stream",
          "text": [
            "\r",
            " 48%|████▊     | 24/50 [07:02<07:34, 17.49s/it]"
          ]
        },
        {
          "name": "stdout",
          "output_type": "stream",
          "text": [
            "train loss :  0.07199524343013763 train acc:  0.98\n",
            "val loss :  0.727662205696106 val acc:  0.7684\n"
          ]
        },
        {
          "name": "stderr",
          "output_type": "stream",
          "text": [
            "\r",
            " 50%|█████     | 25/50 [07:20<07:16, 17.48s/it]"
          ]
        },
        {
          "name": "stdout",
          "output_type": "stream",
          "text": [
            "train loss :  0.07451101392507553 train acc:  0.99\n",
            "val loss :  0.7307180166244507 val acc:  0.7686\n"
          ]
        },
        {
          "name": "stderr",
          "output_type": "stream",
          "text": [
            "\r",
            " 52%|█████▏    | 26/50 [07:37<06:59, 17.48s/it]"
          ]
        },
        {
          "name": "stdout",
          "output_type": "stream",
          "text": [
            "train loss :  0.05919317901134491 train acc:  0.99\n",
            "val loss :  0.6758828163146973 val acc:  0.7794\n"
          ]
        },
        {
          "name": "stderr",
          "output_type": "stream",
          "text": [
            "\r",
            " 54%|█████▍    | 27/50 [07:55<06:42, 17.49s/it]"
          ]
        },
        {
          "name": "stdout",
          "output_type": "stream",
          "text": [
            "train loss :  0.06383706629276276 train acc:  0.99\n",
            "val loss :  0.6565963625907898 val acc:  0.7841\n"
          ]
        },
        {
          "name": "stderr",
          "output_type": "stream",
          "text": [
            "\r",
            " 56%|█████▌    | 28/50 [08:12<06:26, 17.55s/it]"
          ]
        },
        {
          "name": "stdout",
          "output_type": "stream",
          "text": [
            "train loss :  0.07686182111501694 train acc:  0.99\n",
            "val loss :  0.7001119256019592 val acc:  0.7651\n"
          ]
        },
        {
          "name": "stderr",
          "output_type": "stream",
          "text": [
            "\r",
            " 58%|█████▊    | 29/50 [08:30<06:08, 17.55s/it]"
          ]
        },
        {
          "name": "stdout",
          "output_type": "stream",
          "text": [
            "train loss :  0.09670224785804749 train acc:  0.96\n",
            "val loss :  0.7341501712799072 val acc:  0.7582\n"
          ]
        },
        {
          "name": "stderr",
          "output_type": "stream",
          "text": [
            "\r",
            " 60%|██████    | 30/50 [08:47<05:50, 17.51s/it]"
          ]
        },
        {
          "name": "stdout",
          "output_type": "stream",
          "text": [
            "train loss :  0.0841996967792511 train acc:  0.98\n",
            "val loss :  0.7395764589309692 val acc:  0.7546\n"
          ]
        },
        {
          "name": "stderr",
          "output_type": "stream",
          "text": [
            "\r",
            " 62%|██████▏   | 31/50 [09:05<05:31, 17.47s/it]"
          ]
        },
        {
          "name": "stdout",
          "output_type": "stream",
          "text": [
            "train loss :  0.06690800189971924 train acc:  1.0\n",
            "val loss :  0.7133951187133789 val acc:  0.7742\n"
          ]
        },
        {
          "name": "stderr",
          "output_type": "stream",
          "text": [
            "\r",
            " 64%|██████▍   | 32/50 [09:22<05:15, 17.53s/it]"
          ]
        },
        {
          "name": "stdout",
          "output_type": "stream",
          "text": [
            "train loss :  0.054273560643196106 train acc:  1.0\n",
            "val loss :  0.6889132857322693 val acc:  0.7863\n"
          ]
        },
        {
          "name": "stderr",
          "output_type": "stream",
          "text": [
            "\r",
            " 66%|██████▌   | 33/50 [09:40<04:58, 17.57s/it]"
          ]
        },
        {
          "name": "stdout",
          "output_type": "stream",
          "text": [
            "train loss :  0.04448161646723747 train acc:  1.0\n",
            "val loss :  0.6695630550384521 val acc:  0.7887\n"
          ]
        },
        {
          "name": "stderr",
          "output_type": "stream",
          "text": [
            "\r",
            " 68%|██████▊   | 34/50 [09:58<04:41, 17.57s/it]"
          ]
        },
        {
          "name": "stdout",
          "output_type": "stream",
          "text": [
            "train loss :  0.05086261406540871 train acc:  1.0\n",
            "val loss :  0.682593584060669 val acc:  0.7839\n"
          ]
        },
        {
          "name": "stderr",
          "output_type": "stream",
          "text": [
            "\r",
            " 70%|███████   | 35/50 [10:15<04:24, 17.61s/it]"
          ]
        },
        {
          "name": "stdout",
          "output_type": "stream",
          "text": [
            "train loss :  0.057064469903707504 train acc:  1.0\n",
            "val loss :  0.6837013363838196 val acc:  0.7834\n"
          ]
        },
        {
          "name": "stderr",
          "output_type": "stream",
          "text": [
            "\r",
            " 72%|███████▏  | 36/50 [10:33<04:08, 17.72s/it]"
          ]
        },
        {
          "name": "stdout",
          "output_type": "stream",
          "text": [
            "train loss :  0.056743230670690536 train acc:  0.98\n",
            "val loss :  0.68277907371521 val acc:  0.7894\n"
          ]
        },
        {
          "name": "stderr",
          "output_type": "stream",
          "text": [
            "\r",
            " 74%|███████▍  | 37/50 [10:51<03:49, 17.68s/it]"
          ]
        },
        {
          "name": "stdout",
          "output_type": "stream",
          "text": [
            "train loss :  0.06279748678207397 train acc:  0.98\n",
            "val loss :  0.6981990337371826 val acc:  0.7877\n"
          ]
        },
        {
          "name": "stderr",
          "output_type": "stream",
          "text": [
            "\r",
            " 76%|███████▌  | 38/50 [11:08<03:31, 17.66s/it]"
          ]
        },
        {
          "name": "stdout",
          "output_type": "stream",
          "text": [
            "train loss :  0.07312654703855515 train acc:  0.98\n",
            "val loss :  0.7138347625732422 val acc:  0.7806\n"
          ]
        },
        {
          "name": "stderr",
          "output_type": "stream",
          "text": [
            "\r",
            " 78%|███████▊  | 39/50 [11:26<03:13, 17.63s/it]"
          ]
        },
        {
          "name": "stdout",
          "output_type": "stream",
          "text": [
            "train loss :  0.06982499361038208 train acc:  0.99\n",
            "val loss :  0.7176634669303894 val acc:  0.7751\n"
          ]
        },
        {
          "name": "stderr",
          "output_type": "stream",
          "text": [
            "\r",
            " 80%|████████  | 40/50 [11:43<02:56, 17.60s/it]"
          ]
        },
        {
          "name": "stdout",
          "output_type": "stream",
          "text": [
            "train loss :  0.057876814156770706 train acc:  0.99\n",
            "val loss :  0.7085577845573425 val acc:  0.7776\n"
          ]
        },
        {
          "name": "stderr",
          "output_type": "stream",
          "text": [
            "\r",
            " 82%|████████▏ | 41/50 [12:01<02:38, 17.57s/it]"
          ]
        },
        {
          "name": "stdout",
          "output_type": "stream",
          "text": [
            "train loss :  0.055263813585042953 train acc:  0.99\n",
            "val loss :  0.7132494449615479 val acc:  0.7806\n"
          ]
        },
        {
          "name": "stderr",
          "output_type": "stream",
          "text": [
            "\r",
            " 84%|████████▍ | 42/50 [12:18<02:20, 17.55s/it]"
          ]
        },
        {
          "name": "stdout",
          "output_type": "stream",
          "text": [
            "train loss :  0.05530370771884918 train acc:  0.99\n",
            "val loss :  0.7054254412651062 val acc:  0.7824\n"
          ]
        },
        {
          "name": "stderr",
          "output_type": "stream",
          "text": [
            "\r",
            " 86%|████████▌ | 43/50 [12:36<02:02, 17.55s/it]"
          ]
        },
        {
          "name": "stdout",
          "output_type": "stream",
          "text": [
            "train loss :  0.041257426142692566 train acc:  1.0\n",
            "val loss :  0.6674085855484009 val acc:  0.7928\n"
          ]
        },
        {
          "name": "stderr",
          "output_type": "stream",
          "text": [
            "\r",
            " 88%|████████▊ | 44/50 [12:54<01:45, 17.54s/it]"
          ]
        },
        {
          "name": "stdout",
          "output_type": "stream",
          "text": [
            "train loss :  0.034152451902627945 train acc:  1.0\n",
            "val loss :  0.6509100794792175 val acc:  0.7982\n"
          ]
        },
        {
          "name": "stderr",
          "output_type": "stream",
          "text": [
            "\r",
            " 90%|█████████ | 45/50 [13:11<01:27, 17.58s/it]"
          ]
        },
        {
          "name": "stdout",
          "output_type": "stream",
          "text": [
            "train loss :  0.03627154976129532 train acc:  1.0\n",
            "val loss :  0.6573553681373596 val acc:  0.793\n"
          ]
        },
        {
          "name": "stderr",
          "output_type": "stream",
          "text": [
            "\r",
            " 92%|█████████▏| 46/50 [13:29<01:10, 17.67s/it]"
          ]
        },
        {
          "name": "stdout",
          "output_type": "stream",
          "text": [
            "train loss :  0.03541475161910057 train acc:  1.0\n",
            "val loss :  0.6790674924850464 val acc:  0.7855\n"
          ]
        },
        {
          "name": "stderr",
          "output_type": "stream",
          "text": [
            "\r",
            " 94%|█████████▍| 47/50 [13:47<00:52, 17.65s/it]"
          ]
        },
        {
          "name": "stdout",
          "output_type": "stream",
          "text": [
            "train loss :  0.03279735893011093 train acc:  1.0\n",
            "val loss :  0.6512068510055542 val acc:  0.7867\n"
          ]
        },
        {
          "name": "stderr",
          "output_type": "stream",
          "text": [
            "\r",
            " 96%|█████████▌| 48/50 [14:04<00:35, 17.65s/it]"
          ]
        },
        {
          "name": "stdout",
          "output_type": "stream",
          "text": [
            "train loss :  0.029161987826228142 train acc:  1.0\n",
            "val loss :  0.6203232407569885 val acc:  0.7935\n"
          ]
        },
        {
          "name": "stderr",
          "output_type": "stream",
          "text": [
            "\r",
            " 98%|█████████▊| 49/50 [14:22<00:17, 17.61s/it]"
          ]
        },
        {
          "name": "stdout",
          "output_type": "stream",
          "text": [
            "train loss :  0.03869617357850075 train acc:  0.99\n",
            "val loss :  0.6299441456794739 val acc:  0.785\n"
          ]
        },
        {
          "name": "stderr",
          "output_type": "stream",
          "text": [
            "100%|██████████| 50/50 [14:40<00:00, 17.60s/it]"
          ]
        },
        {
          "name": "stdout",
          "output_type": "stream",
          "text": [
            "train loss :  0.05200381577014923 train acc:  0.99\n",
            "val loss :  0.6803622841835022 val acc:  0.7737\n"
          ]
        },
        {
          "name": "stderr",
          "output_type": "stream",
          "text": [
            "\n"
          ]
        }
      ],
      "source": [
        "\n",
        "idx_history=0\n",
        "for epoch in tqdm(np.arange(0,EPOCHS)):\n",
        "\n",
        "  sup_batch_data=tf.data.Dataset.from_tensor_slices((x_labeled,y_labeled)).shuffle(x_labeled.shape[0]).batch(BATCH_SIZE_Sup)\n",
        "  iterator_sup = sup_batch_data.__iter__() \n",
        "\n",
        "  y_pred_X_unsup=best_model_MLP(x_unlabeled,training=False)\n",
        "  unsup_batch_data = tf.data.Dataset.from_tensor_slices((x_unlabeled,y_pred_X_unsup)).shuffle(x_unlabeled.shape[0]).batch(BATCH_SIZE_Unsup)\n",
        "  iterator_unsup = unsup_batch_data.__iter__() \n",
        "  \n",
        "  for batch in range(7):\n",
        "      x_sup_batch,y_true_batch = iterator_sup.get_next()\n",
        "      x_unsup_batch,y_pred_X_unsup_batch = iterator_unsup.get_next()\n",
        "      \n",
        "      x_chapeau=np.array(x_unsup_batch)\n",
        "      for i in range(x_unsup_batch.shape[0]):\n",
        "        x_chapeau[i]=DataAugmentation(x_chapeau[i])\n",
        "\n",
        "      train_step_MLP(x_sup_batch,np.matrix(y_true_batch),x_chapeau,np.matrix(y_pred_X_unsup_batch),1)\n",
        "\n",
        "  y_pred_labeled=best_model_MLP(x_labeled,training=False)\n",
        "  y_pred_labeled_class=np.argmax(y_pred_labeled,axis=1)\n",
        "  y_pred_val=best_model_MLP(x_val,training=False)\n",
        "  y_pred_val_class=np.argmax(y_pred_val,axis=1)\n",
        "\n",
        "  train_acc_history[idx_history]= np.mean(np.argmax(y_labeled,axis=1)==y_pred_labeled_class)\n",
        "  val_acc_history[idx_history]= np.mean(np.argmax(y_val,axis=1)==y_pred_val_class)\n",
        "  train_loss_history[idx_history]= np.mean(tf.keras.losses.categorical_crossentropy(y_labeled, y_pred_labeled,\n",
        "                                                                          from_logits=False, label_smoothing=0))\n",
        "  val_loss_history[idx_history]= np.mean(tf.keras.losses.categorical_crossentropy(y_val, y_pred_val,\n",
        "                                                                        from_logits=False, label_smoothing=0))\n",
        "\n",
        "  print(\"train loss : \", train_loss_history[idx_history] ,\n",
        "        \"train acc: \", train_acc_history[idx_history])\n",
        "  \n",
        "  print(\"val loss : \",val_loss_history[idx_history] ,\n",
        "        \"val acc: \",val_acc_history[idx_history])\n",
        "  idx_history+=1;"
      ]
    },
    {
      "cell_type": "markdown",
      "metadata": {
        "id": "FsjVPuhmIvHu"
      },
      "source": [
        "#### Résultats"
      ]
    },
    {
      "cell_type": "code",
      "execution_count": null,
      "metadata": {
        "colab": {
          "base_uri": "https://localhost:8080/",
          "height": 312
        },
        "id": "OOb6MCmnlpBO",
        "outputId": "d65c4b83-5303-4654-e54a-b8d117f08649"
      },
      "outputs": [
        {
          "data": {
            "text/plain": [
              "<matplotlib.legend.Legend at 0x7ff540a7c048>"
            ]
          },
          "execution_count": 50,
          "metadata": {
            "tags": []
          },
          "output_type": "execute_result"
        },
        {
          "data": {
            "image/png": "[encoded data removed]",
            "text/plain": [
              "<Figure size 432x288 with 1 Axes>"
            ]
          },
          "metadata": {
            "needs_background": "light",
            "tags": []
          },
          "output_type": "display_data"
        }
      ],
      "source": [
        "plt.plot(train_acc_history, label='training set',marker='o', linestyle='solid',linewidth=1, markersize=6)\n",
        "plt.plot(val_acc_history, label='validation set',marker='o', linestyle='solid',linewidth=1, markersize=6)\n",
        "plt.title(\"MLP-model accuracy\")\n",
        "plt.xlabel('Epochs')\n",
        "plt.ylabel('Acuracy')\n",
        "plt.legend(bbox_to_anchor=( 1., 1.))"
      ]
    },
    {
      "cell_type": "markdown",
      "metadata": {
        "id": "UwcnodLxlpBR"
      },
      "source": [
        "Ici, on affiche la loss du modèle en fonction du nombre d'epochs."
      ]
    },
    {
      "cell_type": "code",
      "execution_count": null,
      "metadata": {
        "colab": {
          "base_uri": "https://localhost:8080/",
          "height": 312
        },
        "id": "jTArSNbmlpBR",
        "outputId": "c58984c6-19a9-426b-f679-7b439993c262"
      },
      "outputs": [
        {
          "data": {
            "text/plain": [
              "<matplotlib.legend.Legend at 0x7ff53f0fdc88>"
            ]
          },
          "execution_count": 51,
          "metadata": {
            "tags": []
          },
          "output_type": "execute_result"
        },
        {
          "data": {
            "image/png": "[encoded data removed]",
            "text/plain": [
              "<Figure size 432x288 with 1 Axes>"
            ]
          },
          "metadata": {
            "needs_background": "light",
            "tags": []
          },
          "output_type": "display_data"
        }
      ],
      "source": [
        "plt.plot(train_loss_history, label='training set',marker='o', linestyle='solid',linewidth=1, markersize=6)\n",
        "plt.plot(val_loss_history, label='validation set',marker='o', linestyle='solid',linewidth=1, markersize=6)\n",
        "plt.title(\"MLP-model loss\")\n",
        "plt.xlabel('Epochs')\n",
        "plt.ylabel('Cross Entropy')\n",
        "plt.legend(bbox_to_anchor=( 1.35, 1.))"
      ]
    },
    {
      "cell_type": "markdown",
      "metadata": {
        "id": "yDfSCpknbBTY"
      },
      "source": [
        "L'accuracy maximale sur les données de validation est de : 0.7982 (epoch 44)"
      ]
    },
    {
      "cell_type": "markdown",
      "metadata": {
        "id": "iDNwPtxGVC2T"
      },
      "source": [
        "## Réseau de convolution (CNN)"
      ]
    },
    {
      "cell_type": "code",
      "execution_count": null,
      "metadata": {
        "id": "-yjzeXfcVCj1"
      },
      "outputs": [],
      "source": [
        "clear_session()"
      ]
    },
    {
      "cell_type": "markdown",
      "metadata": {
        "id": "OykpgoZkVBeN"
      },
      "source": [
        "On utilisera le modèle optimal déterminé précédemment."
      ]
    },
    {
      "cell_type": "code",
      "execution_count": null,
      "metadata": {
        "id": "qGzInwkAVSI9"
      },
      "outputs": [],
      "source": [
        "best_model_CNN = tuner.hypermodel.build(best_hps_CNN)"
      ]
    },
    {
      "cell_type": "markdown",
      "metadata": {
        "id": "gC9INkw4VUzT"
      },
      "source": [
        "On affiche un résumé de ce modèle."
      ]
    },
    {
      "cell_type": "code",
      "execution_count": null,
      "metadata": {
        "colab": {
          "base_uri": "https://localhost:8080/"
        },
        "id": "EDjPhkTiVXP3",
        "outputId": "58f9e077-b126-490e-ef2c-0431ca30d770"
      },
      "outputs": [
        {
          "name": "stdout",
          "output_type": "stream",
          "text": [
            "Model: \"sequential\"\n",
            "_________________________________________________________________\n",
            "Layer (type)                 Output Shape              Param #   \n",
            "=================================================================\n",
            "flatten (Flatten)            (None, 784)               0         \n",
            "_________________________________________________________________\n",
            "dense (Dense)                (None, 64)                50240     \n",
            "_________________________________________________________________\n",
            "batch_normalization (BatchNo (None, 64)                256       \n",
            "_________________________________________________________________\n",
            "re_lu (ReLU)                 (None, 64)                0         \n",
            "_________________________________________________________________\n",
            "dropout (Dropout)            (None, 64)                0         \n",
            "_________________________________________________________________\n",
            "dense_1 (Dense)              (None, 64)                4160      \n",
            "_________________________________________________________________\n",
            "batch_normalization_1 (Batch (None, 64)                256       \n",
            "_________________________________________________________________\n",
            "re_lu_1 (ReLU)               (None, 64)                0         \n",
            "_________________________________________________________________\n",
            "dropout_1 (Dropout)          (None, 64)                0         \n",
            "_________________________________________________________________\n",
            "dense_2 (Dense)              (None, 10)                650       \n",
            "=================================================================\n",
            "Total params: 55,562\n",
            "Trainable params: 55,306\n",
            "Non-trainable params: 256\n",
            "_________________________________________________________________\n"
          ]
        }
      ],
      "source": [
        "best_model_CNN.summary()"
      ]
    },
    {
      "cell_type": "markdown",
      "metadata": {
        "id": "ZqzSc7q0Wb0M"
      },
      "source": [
        "Choix de l'optimiseur."
      ]
    },
    {
      "cell_type": "code",
      "execution_count": null,
      "metadata": {
        "id": "zB1QDTGyWds-"
      },
      "outputs": [],
      "source": [
        "CNN_optimizer = tf.keras.optimizers.Adam(lr=0.8*1e-2)"
      ]
    },
    {
      "cell_type": "markdown",
      "metadata": {
        "id": "yTTP3l4qWftp"
      },
      "source": [
        "Définition de la fonction permettant d'entrainer le modèle sur les données labélisées et non labélisées."
      ]
    },
    {
      "cell_type": "code",
      "execution_count": null,
      "metadata": {
        "id": "zAHF_Z7jVhCQ"
      },
      "outputs": [],
      "source": [
        "# Notice the use of `tf.function`\n",
        "# This annotation causes the function to be \"compiled\".\n",
        "@tf.function\n",
        "def train_step_CNN(x,y_true,x_chapeau,y_pred_x_unsup,lamb=1):\n",
        "    #z = tf.random.normal([BATCH_SIZE, dim_z])\n",
        "\n",
        "    with tf.GradientTape() as grad_tape:\n",
        "      y_pred_sup = best_model_CNN(x, training=True)\n",
        "      #fake_output = discriminator(generated_images, training=True)\n",
        "      y_pred_x_chapeau = best_model_CNN(x_chapeau, training=False)\n",
        "\n",
        "      CNN_loss = model_loss(y_true, y_pred_sup,y_pred_x_unsup,y_pred_x_chapeau,lamb)\n",
        "\n",
        "      gradients_of_CNN = grad_tape.gradient(CNN_loss, best_model_CNN.trainable_variables)\n",
        "\n",
        "      CNN_optimizer.apply_gradients(zip(gradients_of_CNN, best_model_CNN.trainable_variables))"
      ]
    },
    {
      "cell_type": "markdown",
      "metadata": {
        "id": "nIyn-mwIIsSU"
      },
      "source": [
        "#### Entrainement"
      ]
    },
    {
      "cell_type": "code",
      "execution_count": null,
      "metadata": {
        "colab": {
          "base_uri": "https://localhost:8080/"
        },
        "id": "NtuHRcspW3V6",
        "outputId": "0f3d0356-91f9-4e34-9c72-78c6cb8f2e89"
      },
      "outputs": [
        {
          "name": "stderr",
          "output_type": "stream",
          "text": [
            "  2%|▏         | 1/50 [00:18<15:07, 18.51s/it]"
          ]
        },
        {
          "name": "stdout",
          "output_type": "stream",
          "text": [
            "train loss :  1.716706395149231 train acc:  0.46\n",
            "val loss :  1.9568296670913696 val acc:  0.336\n"
          ]
        },
        {
          "name": "stderr",
          "output_type": "stream",
          "text": [
            "\r",
            "  4%|▍         | 2/50 [00:35<14:28, 18.09s/it]"
          ]
        },
        {
          "name": "stdout",
          "output_type": "stream",
          "text": [
            "train loss :  1.3353146314620972 train acc:  0.58\n",
            "val loss :  1.7153631448745728 val acc:  0.4079\n"
          ]
        },
        {
          "name": "stderr",
          "output_type": "stream",
          "text": [
            "\r",
            "  6%|▌         | 3/50 [00:52<13:57, 17.82s/it]"
          ]
        },
        {
          "name": "stdout",
          "output_type": "stream",
          "text": [
            "train loss :  1.129077434539795 train acc:  0.63\n",
            "val loss :  1.553699254989624 val acc:  0.4604\n"
          ]
        },
        {
          "name": "stderr",
          "output_type": "stream",
          "text": [
            "\r",
            "  8%|▊         | 4/50 [01:10<13:32, 17.67s/it]"
          ]
        },
        {
          "name": "stdout",
          "output_type": "stream",
          "text": [
            "train loss :  0.9954313635826111 train acc:  0.7\n",
            "val loss :  1.4506545066833496 val acc:  0.5017\n"
          ]
        },
        {
          "name": "stderr",
          "output_type": "stream",
          "text": [
            "\r",
            " 10%|█         | 5/50 [01:27<13:09, 17.54s/it]"
          ]
        },
        {
          "name": "stdout",
          "output_type": "stream",
          "text": [
            "train loss :  0.8968708515167236 train acc:  0.71\n",
            "val loss :  1.3970164060592651 val acc:  0.5289\n"
          ]
        },
        {
          "name": "stderr",
          "output_type": "stream",
          "text": [
            "\r",
            " 12%|█▏        | 6/50 [01:44<12:44, 17.37s/it]"
          ]
        },
        {
          "name": "stdout",
          "output_type": "stream",
          "text": [
            "train loss :  0.8169426918029785 train acc:  0.74\n",
            "val loss :  1.3763540983200073 val acc:  0.537\n"
          ]
        },
        {
          "name": "stderr",
          "output_type": "stream",
          "text": [
            "\r",
            " 14%|█▍        | 7/50 [02:01<12:22, 17.28s/it]"
          ]
        },
        {
          "name": "stdout",
          "output_type": "stream",
          "text": [
            "train loss :  0.7042019367218018 train acc:  0.8\n",
            "val loss :  1.3229570388793945 val acc:  0.5673\n"
          ]
        },
        {
          "name": "stderr",
          "output_type": "stream",
          "text": [
            "\r",
            " 16%|█▌        | 8/50 [02:18<12:03, 17.23s/it]"
          ]
        },
        {
          "name": "stdout",
          "output_type": "stream",
          "text": [
            "train loss :  0.6215086579322815 train acc:  0.8\n",
            "val loss :  1.2774853706359863 val acc:  0.5802\n"
          ]
        },
        {
          "name": "stderr",
          "output_type": "stream",
          "text": [
            "\r",
            " 18%|█▊        | 9/50 [02:35<11:43, 17.17s/it]"
          ]
        },
        {
          "name": "stdout",
          "output_type": "stream",
          "text": [
            "train loss :  0.5563440918922424 train acc:  0.82\n",
            "val loss :  1.2098045349121094 val acc:  0.6032\n"
          ]
        },
        {
          "name": "stderr",
          "output_type": "stream",
          "text": [
            "\r",
            " 20%|██        | 10/50 [02:52<11:25, 17.15s/it]"
          ]
        },
        {
          "name": "stdout",
          "output_type": "stream",
          "text": [
            "train loss :  0.48606327176094055 train acc:  0.87\n",
            "val loss :  1.1553009748458862 val acc:  0.6301\n"
          ]
        },
        {
          "name": "stderr",
          "output_type": "stream",
          "text": [
            "\r",
            " 22%|██▏       | 11/50 [03:09<11:07, 17.12s/it]"
          ]
        },
        {
          "name": "stdout",
          "output_type": "stream",
          "text": [
            "train loss :  0.43432748317718506 train acc:  0.89\n",
            "val loss :  1.1259074211120605 val acc:  0.6444\n"
          ]
        },
        {
          "name": "stderr",
          "output_type": "stream",
          "text": [
            "\r",
            " 24%|██▍       | 12/50 [03:26<10:48, 17.07s/it]"
          ]
        },
        {
          "name": "stdout",
          "output_type": "stream",
          "text": [
            "train loss :  0.382856547832489 train acc:  0.94\n",
            "val loss :  1.0983091592788696 val acc:  0.6548\n"
          ]
        },
        {
          "name": "stderr",
          "output_type": "stream",
          "text": [
            "\r",
            " 26%|██▌       | 13/50 [03:43<10:32, 17.10s/it]"
          ]
        },
        {
          "name": "stdout",
          "output_type": "stream",
          "text": [
            "train loss :  0.3330869972705841 train acc:  0.95\n",
            "val loss :  1.0562012195587158 val acc:  0.6666\n"
          ]
        },
        {
          "name": "stderr",
          "output_type": "stream",
          "text": [
            "\r",
            " 28%|██▊       | 14/50 [04:01<10:17, 17.14s/it]"
          ]
        },
        {
          "name": "stdout",
          "output_type": "stream",
          "text": [
            "train loss :  0.2710699737071991 train acc:  0.98\n",
            "val loss :  0.9920439720153809 val acc:  0.6879\n"
          ]
        },
        {
          "name": "stderr",
          "output_type": "stream",
          "text": [
            "\r",
            " 30%|███       | 15/50 [04:18<09:59, 17.13s/it]"
          ]
        },
        {
          "name": "stdout",
          "output_type": "stream",
          "text": [
            "train loss :  0.24338935315608978 train acc:  0.97\n",
            "val loss :  0.9711636900901794 val acc:  0.6935\n"
          ]
        },
        {
          "name": "stderr",
          "output_type": "stream",
          "text": [
            "\r",
            " 32%|███▏      | 16/50 [04:35<09:40, 17.09s/it]"
          ]
        },
        {
          "name": "stdout",
          "output_type": "stream",
          "text": [
            "train loss :  0.2500797510147095 train acc:  0.96\n",
            "val loss :  0.9722961783409119 val acc:  0.6902\n"
          ]
        },
        {
          "name": "stderr",
          "output_type": "stream",
          "text": [
            "\r",
            " 34%|███▍      | 17/50 [04:52<09:23, 17.06s/it]"
          ]
        },
        {
          "name": "stdout",
          "output_type": "stream",
          "text": [
            "train loss :  0.21816925704479218 train acc:  0.97\n",
            "val loss :  0.9725542068481445 val acc:  0.691\n"
          ]
        },
        {
          "name": "stderr",
          "output_type": "stream",
          "text": [
            "\r",
            " 36%|███▌      | 18/50 [05:09<09:04, 17.01s/it]"
          ]
        },
        {
          "name": "stdout",
          "output_type": "stream",
          "text": [
            "train loss :  0.19732999801635742 train acc:  0.97\n",
            "val loss :  0.9689356684684753 val acc:  0.6901\n"
          ]
        },
        {
          "name": "stderr",
          "output_type": "stream",
          "text": [
            "\r",
            " 38%|███▊      | 19/50 [05:25<08:46, 16.97s/it]"
          ]
        },
        {
          "name": "stdout",
          "output_type": "stream",
          "text": [
            "train loss :  0.17705154418945312 train acc:  0.98\n",
            "val loss :  0.951792299747467 val acc:  0.703\n"
          ]
        },
        {
          "name": "stderr",
          "output_type": "stream",
          "text": [
            "\r",
            " 40%|████      | 20/50 [05:42<08:29, 16.98s/it]"
          ]
        },
        {
          "name": "stdout",
          "output_type": "stream",
          "text": [
            "train loss :  0.17501311004161835 train acc:  0.97\n",
            "val loss :  0.9446954131126404 val acc:  0.7138\n"
          ]
        },
        {
          "name": "stderr",
          "output_type": "stream",
          "text": [
            "\r",
            " 42%|████▏     | 21/50 [06:00<08:13, 17.02s/it]"
          ]
        },
        {
          "name": "stdout",
          "output_type": "stream",
          "text": [
            "train loss :  0.17093271017074585 train acc:  0.98\n",
            "val loss :  0.9511665105819702 val acc:  0.7109\n"
          ]
        },
        {
          "name": "stderr",
          "output_type": "stream",
          "text": [
            "\r",
            " 44%|████▍     | 22/50 [06:17<07:56, 17.01s/it]"
          ]
        },
        {
          "name": "stdout",
          "output_type": "stream",
          "text": [
            "train loss :  0.16950348019599915 train acc:  0.98\n",
            "val loss :  0.9692639708518982 val acc:  0.7078\n"
          ]
        },
        {
          "name": "stderr",
          "output_type": "stream",
          "text": [
            "\r",
            " 46%|████▌     | 23/50 [06:34<07:42, 17.15s/it]"
          ]
        },
        {
          "name": "stdout",
          "output_type": "stream",
          "text": [
            "train loss :  0.1609014868736267 train acc:  0.98\n",
            "val loss :  0.9832838177680969 val acc:  0.6986\n"
          ]
        },
        {
          "name": "stderr",
          "output_type": "stream",
          "text": [
            "\r",
            " 48%|████▊     | 24/50 [06:51<07:27, 17.20s/it]"
          ]
        },
        {
          "name": "stdout",
          "output_type": "stream",
          "text": [
            "train loss :  0.155581995844841 train acc:  0.98\n",
            "val loss :  0.9823594689369202 val acc:  0.6991\n"
          ]
        },
        {
          "name": "stderr",
          "output_type": "stream",
          "text": [
            "\r",
            " 50%|█████     | 25/50 [07:08<07:08, 17.16s/it]"
          ]
        },
        {
          "name": "stdout",
          "output_type": "stream",
          "text": [
            "train loss :  0.15470124781131744 train acc:  0.97\n",
            "val loss :  0.9673163890838623 val acc:  0.7084\n"
          ]
        },
        {
          "name": "stderr",
          "output_type": "stream",
          "text": [
            "\r",
            " 52%|█████▏    | 26/50 [07:25<06:50, 17.12s/it]"
          ]
        },
        {
          "name": "stdout",
          "output_type": "stream",
          "text": [
            "train loss :  0.16051821410655975 train acc:  0.98\n",
            "val loss :  0.9600908160209656 val acc:  0.7123\n"
          ]
        },
        {
          "name": "stderr",
          "output_type": "stream",
          "text": [
            "\r",
            " 54%|█████▍    | 27/50 [07:42<06:33, 17.09s/it]"
          ]
        },
        {
          "name": "stdout",
          "output_type": "stream",
          "text": [
            "train loss :  0.15247617661952972 train acc:  0.98\n",
            "val loss :  0.9521833062171936 val acc:  0.7116\n"
          ]
        },
        {
          "name": "stderr",
          "output_type": "stream",
          "text": [
            "\r",
            " 56%|█████▌    | 28/50 [07:59<06:14, 17.04s/it]"
          ]
        },
        {
          "name": "stdout",
          "output_type": "stream",
          "text": [
            "train loss :  0.13859869539737701 train acc:  0.98\n",
            "val loss :  0.9310662150382996 val acc:  0.7211\n"
          ]
        },
        {
          "name": "stderr",
          "output_type": "stream",
          "text": [
            "\r",
            " 58%|█████▊    | 29/50 [08:16<05:57, 17.00s/it]"
          ]
        },
        {
          "name": "stdout",
          "output_type": "stream",
          "text": [
            "train loss :  0.12874174118041992 train acc:  0.98\n",
            "val loss :  0.9066336154937744 val acc:  0.7314\n"
          ]
        },
        {
          "name": "stderr",
          "output_type": "stream",
          "text": [
            "\r",
            " 60%|██████    | 30/50 [08:33<05:40, 17.01s/it]"
          ]
        },
        {
          "name": "stdout",
          "output_type": "stream",
          "text": [
            "train loss :  0.1199672669172287 train acc:  0.98\n",
            "val loss :  0.8955521583557129 val acc:  0.7288\n"
          ]
        },
        {
          "name": "stderr",
          "output_type": "stream",
          "text": [
            "\r",
            " 62%|██████▏   | 31/50 [08:50<05:23, 17.00s/it]"
          ]
        },
        {
          "name": "stdout",
          "output_type": "stream",
          "text": [
            "train loss :  0.12763597071170807 train acc:  0.97\n",
            "val loss :  0.8959003686904907 val acc:  0.7219\n"
          ]
        },
        {
          "name": "stderr",
          "output_type": "stream",
          "text": [
            "\r",
            " 64%|██████▍   | 32/50 [09:08<05:08, 17.12s/it]"
          ]
        },
        {
          "name": "stdout",
          "output_type": "stream",
          "text": [
            "train loss :  0.13646571338176727 train acc:  0.97\n",
            "val loss :  0.8972106575965881 val acc:  0.7158\n"
          ]
        },
        {
          "name": "stderr",
          "output_type": "stream",
          "text": [
            "\r",
            " 66%|██████▌   | 33/50 [09:25<04:50, 17.10s/it]"
          ]
        },
        {
          "name": "stdout",
          "output_type": "stream",
          "text": [
            "train loss :  0.13268466293811798 train acc:  0.98\n",
            "val loss :  0.8922590017318726 val acc:  0.713\n"
          ]
        },
        {
          "name": "stderr",
          "output_type": "stream",
          "text": [
            "\r",
            " 68%|██████▊   | 34/50 [09:42<04:33, 17.08s/it]"
          ]
        },
        {
          "name": "stdout",
          "output_type": "stream",
          "text": [
            "train loss :  0.14183896780014038 train acc:  0.97\n",
            "val loss :  0.8962720632553101 val acc:  0.7112\n"
          ]
        },
        {
          "name": "stderr",
          "output_type": "stream",
          "text": [
            "\r",
            " 70%|███████   | 35/50 [09:59<04:15, 17.01s/it]"
          ]
        },
        {
          "name": "stdout",
          "output_type": "stream",
          "text": [
            "train loss :  0.1537615805864334 train acc:  0.96\n",
            "val loss :  0.9085497856140137 val acc:  0.7047\n"
          ]
        },
        {
          "name": "stderr",
          "output_type": "stream",
          "text": [
            "\r",
            " 72%|███████▏  | 36/50 [10:16<03:57, 16.99s/it]"
          ]
        },
        {
          "name": "stdout",
          "output_type": "stream",
          "text": [
            "train loss :  0.18534894287586212 train acc:  0.94\n",
            "val loss :  0.9406066536903381 val acc:  0.6873\n"
          ]
        },
        {
          "name": "stderr",
          "output_type": "stream",
          "text": [
            "\r",
            " 74%|███████▍  | 37/50 [10:33<03:41, 17.01s/it]"
          ]
        },
        {
          "name": "stdout",
          "output_type": "stream",
          "text": [
            "train loss :  0.17088699340820312 train acc:  0.95\n",
            "val loss :  0.925900399684906 val acc:  0.6887\n"
          ]
        },
        {
          "name": "stderr",
          "output_type": "stream",
          "text": [
            "\r",
            " 76%|███████▌  | 38/50 [10:49<03:23, 16.97s/it]"
          ]
        },
        {
          "name": "stdout",
          "output_type": "stream",
          "text": [
            "train loss :  0.15815891325473785 train acc:  0.96\n",
            "val loss :  0.941824197769165 val acc:  0.6867\n"
          ]
        },
        {
          "name": "stderr",
          "output_type": "stream",
          "text": [
            "\r",
            " 78%|███████▊  | 39/50 [11:07<03:06, 16.99s/it]"
          ]
        },
        {
          "name": "stdout",
          "output_type": "stream",
          "text": [
            "train loss :  0.17422956228256226 train acc:  0.98\n",
            "val loss :  0.9583114981651306 val acc:  0.6902\n"
          ]
        },
        {
          "name": "stderr",
          "output_type": "stream",
          "text": [
            "\r",
            " 80%|████████  | 40/50 [11:23<02:49, 16.97s/it]"
          ]
        },
        {
          "name": "stdout",
          "output_type": "stream",
          "text": [
            "train loss :  0.1346869170665741 train acc:  0.99\n",
            "val loss :  0.8800649642944336 val acc:  0.724\n"
          ]
        },
        {
          "name": "stderr",
          "output_type": "stream",
          "text": [
            "\r",
            " 82%|████████▏ | 41/50 [11:40<02:32, 16.98s/it]"
          ]
        },
        {
          "name": "stdout",
          "output_type": "stream",
          "text": [
            "train loss :  0.11317454278469086 train acc:  1.0\n",
            "val loss :  0.8318871855735779 val acc:  0.7443\n"
          ]
        },
        {
          "name": "stderr",
          "output_type": "stream",
          "text": [
            "\r",
            " 84%|████████▍ | 42/50 [11:58<02:16, 17.03s/it]"
          ]
        },
        {
          "name": "stdout",
          "output_type": "stream",
          "text": [
            "train loss :  0.10534896701574326 train acc:  0.99\n",
            "val loss :  0.8069719672203064 val acc:  0.7524\n"
          ]
        },
        {
          "name": "stderr",
          "output_type": "stream",
          "text": [
            "\r",
            " 86%|████████▌ | 43/50 [12:15<01:59, 17.07s/it]"
          ]
        },
        {
          "name": "stdout",
          "output_type": "stream",
          "text": [
            "train loss :  0.09802528470754623 train acc:  0.99\n",
            "val loss :  0.7784925103187561 val acc:  0.7606\n"
          ]
        },
        {
          "name": "stderr",
          "output_type": "stream",
          "text": [
            "\r",
            " 88%|████████▊ | 44/50 [12:32<01:42, 17.07s/it]"
          ]
        },
        {
          "name": "stdout",
          "output_type": "stream",
          "text": [
            "train loss :  0.09791146963834763 train acc:  0.99\n",
            "val loss :  0.7698832154273987 val acc:  0.7623\n"
          ]
        },
        {
          "name": "stderr",
          "output_type": "stream",
          "text": [
            "\r",
            " 90%|█████████ | 45/50 [12:49<01:25, 17.01s/it]"
          ]
        },
        {
          "name": "stdout",
          "output_type": "stream",
          "text": [
            "train loss :  0.09856734424829483 train acc:  0.99\n",
            "val loss :  0.7742301821708679 val acc:  0.7599\n"
          ]
        },
        {
          "name": "stderr",
          "output_type": "stream",
          "text": [
            "\r",
            " 92%|█████████▏| 46/50 [13:06<01:07, 16.99s/it]"
          ]
        },
        {
          "name": "stdout",
          "output_type": "stream",
          "text": [
            "train loss :  0.09559573978185654 train acc:  0.99\n",
            "val loss :  0.7687009572982788 val acc:  0.7583\n"
          ]
        },
        {
          "name": "stderr",
          "output_type": "stream",
          "text": [
            "\r",
            " 94%|█████████▍| 47/50 [13:23<00:51, 17.00s/it]"
          ]
        },
        {
          "name": "stdout",
          "output_type": "stream",
          "text": [
            "train loss :  0.08843925595283508 train acc:  1.0\n",
            "val loss :  0.7634419798851013 val acc:  0.7591\n"
          ]
        },
        {
          "name": "stderr",
          "output_type": "stream",
          "text": [
            "\r",
            " 96%|█████████▌| 48/50 [13:40<00:34, 17.01s/it]"
          ]
        },
        {
          "name": "stdout",
          "output_type": "stream",
          "text": [
            "train loss :  0.07656219601631165 train acc:  1.0\n",
            "val loss :  0.7541550397872925 val acc:  0.7626\n"
          ]
        },
        {
          "name": "stderr",
          "output_type": "stream",
          "text": [
            "\r",
            " 98%|█████████▊| 49/50 [13:57<00:17, 17.02s/it]"
          ]
        },
        {
          "name": "stdout",
          "output_type": "stream",
          "text": [
            "train loss :  0.06391929090023041 train acc:  1.0\n",
            "val loss :  0.7573872804641724 val acc:  0.7652\n"
          ]
        },
        {
          "name": "stderr",
          "output_type": "stream",
          "text": [
            "100%|██████████| 50/50 [14:14<00:00, 17.10s/it]"
          ]
        },
        {
          "name": "stdout",
          "output_type": "stream",
          "text": [
            "train loss :  0.07328065484762192 train acc:  1.0\n",
            "val loss :  0.7817725539207458 val acc:  0.7551\n"
          ]
        },
        {
          "name": "stderr",
          "output_type": "stream",
          "text": [
            "\n"
          ]
        }
      ],
      "source": [
        "idx_history=0\n",
        "\n",
        "for epoch in tqdm(np.arange(0,EPOCHS)):\n",
        "  sup_batch_data=tf.data.Dataset.from_tensor_slices((x_labeled,y_labeled)).shuffle(x_labeled.shape[0]).batch(BATCH_SIZE_Sup)\n",
        "  iterator_sup = sup_batch_data.__iter__() \n",
        "\n",
        "  y_pred_X_unsup=best_model_CNN(x_unlabeled,training=False)\n",
        "  unsup_batch_data = tf.data.Dataset.from_tensor_slices((x_unlabeled,y_pred_X_unsup)).shuffle(x_unlabeled.shape[0]).batch(BATCH_SIZE_Unsup)\n",
        "  iterator_unsup = unsup_batch_data.__iter__() \n",
        "\n",
        "  for batch in range(7):\n",
        "      x_sup_batch,y_true_batch = iterator_sup.get_next()\n",
        "      x_unsup_batch,y_pred_X_unsup_batch = iterator_unsup.get_next()\n",
        "      \n",
        "      x_chapeau=np.array(x_unsup_batch)\n",
        "      for i in range(x_unsup_batch.shape[0]):\n",
        "        x_chapeau[i]=DataAugmentation(x_chapeau[i])\n",
        "\n",
        "      train_step_CNN(x_sup_batch,np.matrix(y_true_batch),x_chapeau,np.matrix(y_pred_X_unsup_batch),1)\n",
        "\n",
        "  y_pred_labeled=best_model_CNN(x_labeled,training=False)\n",
        "  y_pred_labeled_class=np.argmax(y_pred_labeled,axis=1)\n",
        "  y_pred_val=best_model_CNN(x_val,training=False)\n",
        "  y_pred_val_class=np.argmax(y_pred_val,axis=1)\n",
        "\n",
        "  train_acc_history[idx_history]= np.mean(np.argmax(y_labeled,axis=1)==y_pred_labeled_class)\n",
        "  val_acc_history[idx_history]= np.mean(np.argmax(y_val,axis=1)==y_pred_val_class)\n",
        "  train_loss_history[idx_history]= np.mean(tf.keras.losses.categorical_crossentropy(y_labeled, y_pred_labeled,\n",
        "                                                                          from_logits=False, label_smoothing=0))\n",
        "  val_loss_history[idx_history]= np.mean(tf.keras.losses.categorical_crossentropy(y_val, y_pred_val,\n",
        "                                                                        from_logits=False, label_smoothing=0))\n",
        "\n",
        "  print(\"train loss : \", train_loss_history[idx_history] ,\n",
        "        \"train acc: \", train_acc_history[idx_history])\n",
        "  \n",
        "  print(\"val loss : \",val_loss_history[idx_history] ,\n",
        "        \"val acc: \",val_acc_history[idx_history])\n",
        "  idx_history+=1;"
      ]
    },
    {
      "cell_type": "markdown",
      "metadata": {
        "id": "98FVeSbjIy5n"
      },
      "source": [
        "#### Résultats"
      ]
    },
    {
      "cell_type": "code",
      "execution_count": null,
      "metadata": {
        "colab": {
          "base_uri": "https://localhost:8080/",
          "height": 312
        },
        "id": "BLzn-nU7tt5L",
        "outputId": "1e7c2bf8-466a-4603-e709-c8b782db3ecc"
      },
      "outputs": [
        {
          "data": {
            "text/plain": [
              "<matplotlib.legend.Legend at 0x7ff53edcc080>"
            ]
          },
          "execution_count": 58,
          "metadata": {
            "tags": []
          },
          "output_type": "execute_result"
        },
        {
          "data": {
            "image/png": "[encoded data removed]",
            "text/plain": [
              "<Figure size 432x288 with 1 Axes>"
            ]
          },
          "metadata": {
            "needs_background": "light",
            "tags": []
          },
          "output_type": "display_data"
        }
      ],
      "source": [
        "plt.plot(train_acc_history, label='training set',marker='o', linestyle='solid',linewidth=1, markersize=6)\n",
        "plt.plot(val_acc_history, label='validation set',marker='o', linestyle='solid',linewidth=1, markersize=6)\n",
        "plt.title(\"CNN-model accuracy\")\n",
        "plt.xlabel('Epochs')\n",
        "plt.ylabel('Acuracy')\n",
        "plt.legend(bbox_to_anchor=( 1., 1.))"
      ]
    },
    {
      "cell_type": "code",
      "execution_count": null,
      "metadata": {
        "colab": {
          "base_uri": "https://localhost:8080/",
          "height": 312
        },
        "id": "psYKLAsaGsPJ",
        "outputId": "4f407cb7-3f24-423f-b7c7-d8540fcfcd42"
      },
      "outputs": [
        {
          "data": {
            "text/plain": [
              "<matplotlib.legend.Legend at 0x7ff53ebc1b38>"
            ]
          },
          "execution_count": 62,
          "metadata": {
            "tags": []
          },
          "output_type": "execute_result"
        },
        {
          "data": {
            "image/png": "[encoded data removed]",
            "text/plain": [
              "<Figure size 432x288 with 1 Axes>"
            ]
          },
          "metadata": {
            "needs_background": "light",
            "tags": []
          },
          "output_type": "display_data"
        }
      ],
      "source": [
        "plt.plot(train_loss_history, label='training set',marker='o', linestyle='solid',linewidth=1, markersize=6)\n",
        "plt.plot(val_loss_history, label='validation set',marker='o', linestyle='solid',linewidth=1, markersize=6)\n",
        "plt.title(\"CNN-model Loss\")\n",
        "plt.xlabel('Epochs')\n",
        "plt.ylabel('Cross Entropy')\n",
        "plt.legend(bbox_to_anchor=( 1., 1.))"
      ]
    },
    {
      "cell_type": "markdown",
      "metadata": {
        "id": "PTZGi_WpbUlZ"
      },
      "source": [
        "L'accuracy maximale sur les données de validation est de : 0.7652 (epoch 49)"
      ]
    },
    {
      "cell_type": "markdown",
      "metadata": {
        "id": "usAtzS4ya7P6"
      },
      "source": [
        "# Conclusion"
      ]
    },
    {
      "cell_type": "markdown",
      "metadata": {
        "id": "eOrdoZ6ibfwf"
      },
      "source": [
        "Pour la partie non-supervisé on constate qu'on a une plus grande amélioration, et une plus grande accuracy, avec le modèle MLP.\n",
        "\n",
        "Par contre, on peut constater que pour les deux modèles, l'amélioration est présente.\n",
        "\n",
        "Pour le MLP, on passe de 72.8% à 79.82% soit un gain de 7.02%.\n",
        "\n",
        "Pour le CNN, on passe de 73.8% à 76.52%, soit un gain de 2.72%.\n",
        "\n",
        "Par ailleurs l'amélioration dépend fortement de la DataAugmentation, on peut donc supposer qu'un meilleur choix de paramètres, plus adapté au modèle CNN, pourrait grandement améliorer ses performances.\n",
        "\n",
        "De plus, ici on n'est que sur une base d'une cinquantaine d'epochs car nous sommes limités en puissance de calcul. Avec plus de puissance, nous aurions pu mieux peaufiner le choix des paramètres concernant la DataAugmentation ainsi que le paramètre de régularisation $\\lambda$ (ici $\\lambda = 1$)."
      ]
    }
  ],
  "metadata": {
    "colab": {
      "collapsed_sections": [],
      "name": "Semi_supervised_MNIST_final_AKROUT_BOULAHFA_DESANTIAGO (1).ipynb",
      "provenance": [],
      "toc_visible": true
    },
    "kernelspec": {
      "display_name": "Python 3",
      "language": "python",
      "name": "python3"
    },
    "language_info": {
      "codemirror_mode": {
        "name": "ipython",
        "version": 3
      },
      "file_extension": ".py",
      "mimetype": "text/x-python",
      "name": "python",
      "nbconvert_exporter": "python",
      "pygments_lexer": "ipython3",
      "version": "3.6.5"
    }
  },
  "nbformat": 4,
  "nbformat_minor": 0
}